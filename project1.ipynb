{
 "cells": [
  {
   "cell_type": "code",
   "execution_count": 1,
   "id": "31d4a157",
   "metadata": {},
   "outputs": [],
   "source": [
    "# -*- coding: utf-8 -*-\n",
    "\"\"\"\n",
    "Created on Mon Jan 30 20:58:00 2023\n",
    "\n",
    "@author: Gibson Nkhata\n",
    "\"\"\"\n",
    "import random\n",
    "import numpy as np\n",
    "from math import pi,tan,sqrt"
   ]
  },
  {
   "cell_type": "markdown",
   "id": "9ec2d519",
   "metadata": {},
   "source": [
    "## Problem 1. Class and Inheritance"
   ]
  },
  {
   "cell_type": "markdown",
   "id": "27bad6e2",
   "metadata": {},
   "source": [
    "### Geometry class"
   ]
  },
  {
   "cell_type": "code",
   "execution_count": 2,
   "id": "9b929c68",
   "metadata": {},
   "outputs": [],
   "source": [
    "class Geometry: \n",
    "    geometry_count = 0\n",
    "    def __init__(self, name = \"Shape\", points = None): \n",
    "        self.name = name  \n",
    "        self.points = points \n",
    "        Geometry.geometry_count += 1\n",
    "      \n",
    "    def __del__(self): \n",
    "        Geometry.geometry_count -= 1 \n",
    "\n",
    "    def calculate_area(self): \n",
    "        pass \n",
    "        \n",
    "    def get_name(self): \n",
    "        return self.name \n",
    "    \n",
    "    def distance(self, index1, index2):\n",
    "        x1 = self.points[index1][0]\n",
    "        y1 = self.points[index1][1]\n",
    "        x2 = self.points[index2][0]\n",
    "        y2 = self.points[index2][1]\n",
    "        return sqrt((x1 - x2) ** 2 + (y1 - y2) ** 2)\n",
    "        \n",
    "    @classmethod \n",
    "    def count_number_of_geometry(cls): \n",
    "        print(\"Number of geometry instances: %d\" % cls.geometry_count)\n"
   ]
  },
  {
   "cell_type": "markdown",
   "id": "a1117107",
   "metadata": {},
   "source": [
    "### Triangle class"
   ]
  },
  {
   "cell_type": "code",
   "execution_count": 3,
   "id": "b84b22e2",
   "metadata": {
    "scrolled": true
   },
   "outputs": [
    {
     "name": "stdout",
     "output_type": "stream",
     "text": [
      "Area of Triangle: 0.5000\n",
      "Number of geometry instances: 1\n"
     ]
    }
   ],
   "source": [
    "class Triangle(Geometry): \n",
    "    def __init__(self, a, b,c ):\n",
    "        super(Triangle, self).__init__(\"Triangle\", [a, b, c])\n",
    "\n",
    "    def calculate_area(self):\n",
    "        side1 = self.distance(0,1)\n",
    "        side2 = self.distance(0,2)\n",
    "        side3 = self.distance(1,2)\n",
    "        sp    = (side1+side2+side3)/2\n",
    "        hf  = sp*((sp-side1)*(sp-side2)*(sp-side3))\n",
    "        return sqrt(hf) \n",
    "    \n",
    "triangle = Triangle((0, 1), (1, 0), (0, 0))\n",
    "print(\"Area of %s: %0.4f\" % (triangle.name, triangle.calculate_area()))\n",
    "Geometry.count_number_of_geometry()\n"
   ]
  },
  {
   "cell_type": "markdown",
   "id": "9dc78236",
   "metadata": {},
   "source": [
    "### Rectangle class"
   ]
  },
  {
   "cell_type": "code",
   "execution_count": 4,
   "id": "e87be7c6",
   "metadata": {
    "scrolled": true
   },
   "outputs": [
    {
     "name": "stdout",
     "output_type": "stream",
     "text": [
      "Area of Rectangle: 4.0000\n",
      "Number of geometry instances: 2\n"
     ]
    }
   ],
   "source": [
    "class Rectangle(Geometry):\n",
    "    def __init__(self, a,b):\n",
    "        x1, y1 = a\n",
    "        x2, y2 = b\n",
    "        c = (x1, y2)\n",
    "        d = (x2, y1)\n",
    "        super(Rectangle, self).__init__(\"Rectangle\", [a,b,c,d])\n",
    "        \n",
    "        \n",
    "    def calculate_area(self):\n",
    "        width = side1 = self.distance(0,2)\n",
    "        height = self.distance(1,3)       \n",
    "        return width*height\n",
    "    \n",
    "rectangle = Rectangle((0, 0), (2, 2))\n",
    "print(\"Area of %s: %0.4f\" % (rectangle.name, rectangle.calculate_area()))\n",
    "Geometry.count_number_of_geometry()"
   ]
  },
  {
   "cell_type": "markdown",
   "id": "1c8bda96",
   "metadata": {},
   "source": [
    "### Square class"
   ]
  },
  {
   "cell_type": "code",
   "execution_count": 5,
   "id": "ab7e8f92",
   "metadata": {},
   "outputs": [
    {
     "name": "stdout",
     "output_type": "stream",
     "text": [
      "Area of Square: 4.0000\n",
      "Number of geometry instances: 3\n"
     ]
    }
   ],
   "source": [
    "class Square(Rectangle):\n",
    "    def __init__(self, a, length):\n",
    "        x, y = a\n",
    "        b = (x + length, y - length)\n",
    "        super(Square, self).__init__( a,b)\n",
    "        self.name = \"Square\"\n",
    "    \n",
    "    def calculate_area(self):\n",
    "        width = side1 = self.distance(0,2)\n",
    "        return width**2   \n",
    "    \n",
    "square = Square((0, 0), 2)\n",
    "print(\"Area of %s: %0.4f\" % (square.name, square.calculate_area()))\n",
    "Geometry.count_number_of_geometry()"
   ]
  },
  {
   "cell_type": "markdown",
   "id": "d761dd1b",
   "metadata": {},
   "source": [
    "### Circle class"
   ]
  },
  {
   "cell_type": "code",
   "execution_count": 6,
   "id": "905194e9",
   "metadata": {},
   "outputs": [
    {
     "name": "stdout",
     "output_type": "stream",
     "text": [
      "Area of Circle: 28.2743\n",
      "Number of geometry instances: 4\n"
     ]
    }
   ],
   "source": [
    "class Circle(Geometry): \n",
    "    def __init__(self, o, rad):\n",
    "        super(Circle, self).__init__(\"Circle\", [o])\n",
    "        self.rad = rad\n",
    "    \n",
    "    def calculate_area(self):\n",
    "        area = pi*self.rad**2\n",
    "        return area\n",
    "        \n",
    "circle = Circle((0, 0), 3)\n",
    "print(\"Area of %s: %0.4f\" % (circle.name, circle.calculate_area()))\n",
    "Geometry.count_number_of_geometry()"
   ]
  },
  {
   "cell_type": "markdown",
   "id": "3ac6e7c4",
   "metadata": {},
   "source": [
    "### Polygon class"
   ]
  },
  {
   "cell_type": "code",
   "execution_count": 7,
   "id": "ad7f976a",
   "metadata": {},
   "outputs": [
    {
     "name": "stdout",
     "output_type": "stream",
     "text": [
      "Area of Polygon: 1.0000\n",
      "Number of geometry instances: 5\n"
     ]
    }
   ],
   "source": [
    "class Polygon(Geometry): \n",
    "    def __init__(self, points):\n",
    "        super(Polygon, self).__init__(\"Polygon\", points)\n",
    "    \n",
    "    def calculate_area(self):\n",
    "        sides = len(self.points)\n",
    "        S = 0\n",
    "        for i in range(2, sides):\n",
    "            ab, ac, bc = self.distance(0, i - 1), self.distance(0, i), self.distance(i, i - 1)\n",
    "            p = (ab + ac + bc) / 2\n",
    "            S += np.sqrt(p * (p - ab) * (p - ac) * (p - bc))\n",
    "        return S\n",
    "    \n",
    "polygon = Polygon([(0, 0), (0, 1), (1, 1), (1, 0)])\n",
    "print(\"Area of %s: %0.4f\" % (polygon.name, polygon.calculate_area()))\n",
    "Geometry.count_number_of_geometry()"
   ]
  },
  {
   "cell_type": "markdown",
   "id": "cd390776",
   "metadata": {},
   "source": [
    "## Problem 2"
   ]
  },
  {
   "cell_type": "markdown",
   "id": "5ecf3f9d",
   "metadata": {},
   "source": [
    "### a. Matrix multiplication"
   ]
  },
  {
   "cell_type": "code",
   "execution_count": 8,
   "id": "0e283fe3",
   "metadata": {},
   "outputs": [
    {
     "name": "stdout",
     "output_type": "stream",
     "text": [
      "Your implementation is correct!\n"
     ]
    }
   ],
   "source": [
    "def matrix_multiplication(A, B):\n",
    "    result = np.zeros((len(A), len(B[1])))\n",
    "    for x in range(len(A)):\n",
    "        for y in range(len(B[1])):\n",
    "            for z in range(len(B)):\n",
    "                result[x][y] += A[x][z] * B[z][y]\n",
    "    return result\n",
    "                \n",
    "A = np.random.randn(4, 5) \n",
    "B = np.random.randn(5, 6)\n",
    "\n",
    "assert (A.dot(B) == matrix_multiplication(A, B)).any(), \"Your implementation is wrong!\"\n",
    "print(\"Your implementation is correct!\")"
   ]
  },
  {
   "cell_type": "markdown",
   "id": "a2106e51",
   "metadata": {},
   "source": [
    "### b. Powers of a Matrix "
   ]
  },
  {
   "cell_type": "markdown",
   "id": "a91c3a68",
   "metadata": {},
   "source": [
    "### Recursive functiion"
   ]
  },
  {
   "cell_type": "code",
   "execution_count": 9,
   "id": "5cbbf929",
   "metadata": {},
   "outputs": [],
   "source": [
    "def pow(A, n):\n",
    "    if (n == 0):\n",
    "        return np.eye(A.shape[0])\n",
    "    else:\n",
    "        B = pow(A, n / 2)\n",
    "        B = A.dot(A)\n",
    "        if (n % 2) == 0:\n",
    "            return B\n",
    "        else:\n",
    "            return B @ A\n",
    "        \n"
   ]
  },
  {
   "cell_type": "code",
   "execution_count": 10,
   "id": "23ba1786",
   "metadata": {
    "scrolled": false
   },
   "outputs": [
    {
     "name": "stdout",
     "output_type": "stream",
     "text": [
      "A^4 = [[-1.17350692  0.45143022  0.74229987  0.17109624]\n",
      " [-0.05252752  6.9996382  -0.33859418  0.59055102]\n",
      " [-0.8094624  -1.02237213  0.19973491 -0.97441233]\n",
      " [-1.1464152  -3.80531789  0.53588654 -0.22841917]]\n",
      "\n",
      "A^2 = [[-0.45845668 -0.37505932]\n",
      " [ 0.31360391 -0.36924819]]\n",
      "\n",
      "A^3 = [[ 0.92566371  4.98121973 -0.83600909]\n",
      " [-0.0290138   3.63879379 -1.14979763]\n",
      " [ 3.51969537 -1.52769068  4.71770782]]\n",
      "\n",
      "A^2 = [[ 3.07750317 -0.98524332]\n",
      " [-1.26258219  0.40525133]]\n",
      "\n",
      "A^2 = [[3.51522784 1.92258297]\n",
      " [0.74436053 0.40729717]]\n",
      "\n",
      "A^4 = [[-2.01271896 -2.57933477 -1.50696935 -0.93749445]\n",
      " [ 3.81790753  2.67668255  1.20645755  5.62891736]\n",
      " [ 3.30384451  2.21961215  2.52103839  2.27127978]\n",
      " [-0.0563938   0.35674482  0.12557357  1.31301787]]\n",
      "\n",
      "A^2 = [[ 0.51976678 -0.09592732]\n",
      " [ 1.204584    0.42004557]]\n",
      "\n",
      "A^2 = [[-1.2356804   0.28787465]\n",
      " [-0.18770636 -0.96880855]]\n",
      "\n",
      "A^2 = [[-0.31817285 -0.33842573]\n",
      " [ 0.92700756 -1.2022352 ]]\n",
      "\n",
      "A^4 = [[ 1.47460232  4.08003523 -3.85692079 -1.51684715]\n",
      " [-4.0844271  -1.19355137 -3.96523258 -1.72612296]\n",
      " [-4.42278473  0.09984165 11.65866469 -5.9807551 ]\n",
      " [ 1.91190648  3.38867501 -5.81551993  2.19869809]]\n",
      "\n"
     ]
    }
   ],
   "source": [
    "for test in range(10):\n",
    "    n = random.randint(2, 5)\n",
    "    A = np.random.randn(n, n)\n",
    "    #print(A)\n",
    "    print(\"A^{} = {}\".format(n, pow(A, n)))\n",
    "    print()"
   ]
  },
  {
   "cell_type": "markdown",
   "id": "016a9e4e",
   "metadata": {},
   "source": [
    "### Iterative functon"
   ]
  },
  {
   "cell_type": "code",
   "execution_count": 11,
   "id": "4e266060",
   "metadata": {},
   "outputs": [],
   "source": [
    "def pow(A, n):\n",
    "    result = np.eye(A.shape[0])\n",
    "    while (n > 0):\n",
    "        if (n % 2) == 1:\n",
    "            result = result @ A\n",
    "        A = A.dot(A)\n",
    "        n = n // 2\n",
    "    return result"
   ]
  },
  {
   "cell_type": "code",
   "execution_count": 12,
   "id": "eb5f802d",
   "metadata": {},
   "outputs": [
    {
     "name": "stdout",
     "output_type": "stream",
     "text": [
      "A^4 = [[ 16.87376115  -6.01498967  -3.83023048   2.37870668]\n",
      " [-27.40110866  24.78930426  -9.96559567   0.91195899]\n",
      " [-22.99859237  -0.26805561  14.34787011  -5.93536276]\n",
      " [  6.3958998   20.97414376 -26.5056456    8.29295479]]\n",
      "\n",
      "A^4 = [[ 24.91689484 -21.54844946 -13.94659204   1.81063464]\n",
      " [ -3.06255645  34.58585648  -1.07938462  22.38468746]\n",
      " [ -0.30963082  -5.50233394   5.20137283  -2.40667421]\n",
      " [ 17.51770204   2.39235513  -5.93858979  18.24749138]]\n",
      "\n",
      "A^5 = [[ -8.76688032 -40.1534169   16.53227682  39.324501    22.25583164]\n",
      " [  2.10568324 -24.62520409  20.17494201  24.57797303   4.30995299]\n",
      " [-52.37714368 -34.80805478 -36.82841105  -4.68096836   6.14093654]\n",
      " [-25.21806398 -15.4548217  -19.12049949 -14.18097756 -17.46132231]\n",
      " [-46.3744619   -3.09079627 -55.2594112  -19.11022094   6.70324386]]\n",
      "\n",
      "A^3 = [[-0.55150116 -0.17583504  0.70884816]\n",
      " [ 2.5319539  -0.45559392  0.8656012 ]\n",
      " [ 0.21555522  0.497502   -0.3530091 ]]\n",
      "\n",
      "A^2 = [[1.65806631 2.7303037 ]\n",
      " [0.45767244 2.41057965]]\n",
      "\n",
      "A^4 = [[-17.78803204 -45.1797426   30.89857571  -4.08647983]\n",
      " [ -2.09716328   6.91242505 -17.51516197  26.75428035]\n",
      " [  8.49897319   6.04021311   6.26111208 -14.17006534]\n",
      " [ -9.92047444 -25.42095617  35.05629248 -36.13419817]]\n",
      "\n",
      "A^2 = [[1.48150176 0.40532965]\n",
      " [0.18999249 0.38917365]]\n",
      "\n",
      "A^5 = [[  3.62169688  -9.72302962  -7.04713051  -1.27980264   6.8446587 ]\n",
      " [ 13.0321118  -14.34473549  -3.07266022 -16.43172221  15.87340275]\n",
      " [  6.6532552  -12.42166725  -6.28159787  -6.8311651   12.32742528]\n",
      " [  1.06114956  -7.69009771  -8.78772633   3.54751196   4.01317188]\n",
      " [  8.65775963  -6.6684318   -0.051384   -12.64062149   8.85217703]]\n",
      "\n",
      "A^5 = [[-17.62959504   5.89226294   7.3972253   -7.62558747   6.11193452]\n",
      " [  0.39705274 -16.48892312  -3.73294727  15.26764437   7.15534913]\n",
      " [  5.60225693   5.1940538  -12.88697453  -5.34014227   1.73230848]\n",
      " [-10.26639677   7.33599927  -0.84425583  -8.72682649   4.09712876]\n",
      " [  9.48586614   4.57904298  10.53555002  -1.98956482 -12.48405366]]\n",
      "\n",
      "A^5 = [[ 0.22184125 -0.23224249  1.06156891  0.32239837  0.86809918]\n",
      " [-0.17581615  0.16598402  0.5897085   0.47822337  0.49021614]\n",
      " [-0.23888893 -0.20740198  0.48560491 -0.42437709 -0.24205175]\n",
      " [-0.39551944 -0.14862386  0.40827465  0.37808742 -0.10373323]\n",
      " [ 0.10490264  0.40853107 -0.48837685  0.03531517  0.15027558]]\n",
      "\n"
     ]
    }
   ],
   "source": [
    "for test in range(10):\n",
    "    n = random.randint(2, 5)\n",
    "    A = np.random.randn(n, n)\n",
    "    print(\"A^{} = {}\".format(n, pow(A, n)))\n",
    "    print()"
   ]
  },
  {
   "cell_type": "markdown",
   "id": "9a8f28e5",
   "metadata": {},
   "source": [
    "## c. Fibonacci number"
   ]
  },
  {
   "cell_type": "code",
   "execution_count": 13,
   "id": "7d0ba9a5",
   "metadata": {},
   "outputs": [],
   "source": [
    "def get_A():\n",
    "    return np.array([[1., 1.], [1., 0.]])\n",
    "\n",
    "def fibo(n):\n",
    "    A = get_A()\n",
    "    F1 = np.array([[1.], [1.]])\n",
    "    FN = pow(A, n - 1) @ F1\n",
    "    return int(FN[0][0])"
   ]
  },
  {
   "cell_type": "code",
   "execution_count": 14,
   "id": "ac143dae",
   "metadata": {},
   "outputs": [
    {
     "name": "stdout",
     "output_type": "stream",
     "text": [
      "[Test Case 0]. Your implementation is correct!. fibo(2) = 2\n",
      "[Test Case 1]. Your implementation is correct!. fibo(3) = 3\n",
      "[Test Case 2]. Your implementation is correct!. fibo(4) = 5\n",
      "[Test Case 3]. Your implementation is correct!. fibo(5) = 8\n",
      "[Test Case 4]. Your implementation is correct!. fibo(6) = 13\n",
      "[Test Case 5]. Your implementation is correct!. fibo(7) = 21\n",
      "[Test Case 6]. Your implementation is correct!. fibo(8) = 34\n",
      "[Test Case 7]. Your implementation is correct!. fibo(9) = 55\n"
     ]
    }
   ],
   "source": [
    "a, b = 1, 1\n",
    "for i in range(2, 10):\n",
    "    c = a + b\n",
    "    assert (fibo(i) == c), \"You implementation is incorrect\"\n",
    "    print(\"[Test Case %d]. Your implementation is correct!. fibo(%d) = %d\" % (i - 2, i, fibo(i)))\n",
    "    a = b\n",
    "    b = c"
   ]
  },
  {
   "cell_type": "markdown",
   "id": "71ee56cd",
   "metadata": {},
   "source": [
    "## d. Recursive Function"
   ]
  },
  {
   "cell_type": "code",
   "execution_count": 15,
   "id": "dfc4ddb9",
   "metadata": {},
   "outputs": [],
   "source": [
    "def f(n, k):\n",
    "    if (n < k):\n",
    "        return 1\n",
    "    else:\n",
    "        ret = 0\n",
    "        for i in range(1, k + 1):\n",
    "            ret += f(n - i, k)\n",
    "    return ret"
   ]
  },
  {
   "cell_type": "code",
   "execution_count": 16,
   "id": "341df708",
   "metadata": {
    "scrolled": false
   },
   "outputs": [
    {
     "name": "stdout",
     "output_type": "stream",
     "text": [
      "f(5, 2) = 8\n",
      "f(5, 3) = 9\n",
      "f(5, 4) = 7\n",
      "f(6, 2) = 13\n",
      "f(6, 3) = 17\n",
      "f(6, 4) = 13\n",
      "f(7, 2) = 21\n",
      "f(7, 3) = 31\n",
      "f(7, 4) = 25\n",
      "f(8, 2) = 34\n",
      "f(8, 3) = 57\n",
      "f(8, 4) = 49\n",
      "f(9, 2) = 55\n",
      "f(9, 3) = 105\n",
      "f(9, 4) = 94\n",
      "f(10, 2) = 89\n",
      "f(10, 3) = 193\n",
      "f(10, 4) = 181\n"
     ]
    }
   ],
   "source": [
    "for n in range(5, 11):\n",
    "    for k in range(2, 5):\n",
    "        print(\"f(%d, %d) = %d\" % (n, k, f(n,k)))"
   ]
  },
  {
   "cell_type": "markdown",
   "id": "15ba90bd",
   "metadata": {},
   "source": [
    "## 3a DFS"
   ]
  },
  {
   "cell_type": "code",
   "execution_count": 17,
   "id": "283a1ae1",
   "metadata": {},
   "outputs": [],
   "source": [
    "def recursiveDFS(x, y, A, visited, path):\n",
    "    M = A.shape[0]\n",
    "    N = A.shape[1]\n",
    "    visited[x][y] = 1\n",
    "    if (x == M - 1 and y == N - 1):\n",
    "        print(\"(0, 0)\", end = \"\")\n",
    "        for (u, v) in path:\n",
    "            print(\" -> (%d, %d)\" % (u, v), end =\"\")\n",
    "        print()\n",
    "        exit(0)\n",
    "    for dx, dy in [(-1, 0), (0, -1), (1, 0), (0, 1)]:\n",
    "        u = x + dx\n",
    "        v = y + dy\n",
    "        if (0 <= u) and (u < M) and (0 <= v) and (v < N) and (A[u][v] != 0) and visited[u][v] == 0:\n",
    "            path.append((u, v))\n",
    "            recursiveDFS(u, v, A, visited, path)\n",
    "            path.pop()\n",
    "\n",
    "def DFS(A):\n",
    "    recursiveDFS(0, 0, A, np.zeros_like(A), [])"
   ]
  },
  {
   "cell_type": "code",
   "execution_count": 18,
   "id": "73c3e4fa",
   "metadata": {},
   "outputs": [
    {
     "name": "stdout",
     "output_type": "stream",
     "text": [
      "Test Case 0\n",
      "[[1 1 1 1 0 1 1 0]\n",
      " [1 1 1 1 0 1 0 1]\n",
      " [1 1 0 1 1 1 1 1]\n",
      " [1 1 1 1 0 1 0 1]\n",
      " [1 1 1 0 1 1 0 1]\n",
      " [1 1 1 0 1 1 1 1]\n",
      " [1 1 1 1 0 0 1 0]\n",
      " [1 1 0 1 1 1 1 1]\n",
      " [0 0 0 0 1 1 1 1]]\n",
      "(0, 0) -> (1, 0) -> (2, 0) -> (3, 0) -> (4, 0) -> (5, 0) -> (6, 0) -> (7, 0) -> (7, 1) -> (6, 1) -> (5, 1) -> (4, 1) -> (3, 1) -> (2, 1) -> (1, 1) -> (0, 1) -> (0, 2) -> (1, 2) -> (1, 3) -> (2, 3) -> (3, 3) -> (3, 2) -> (4, 2) -> (5, 2) -> (6, 2) -> (6, 3) -> (7, 3) -> (7, 4) -> (8, 4) -> (8, 5) -> (7, 5) -> (7, 6) -> (8, 6) -> (8, 7)\n",
      "\n",
      "Test Case 1\n",
      "[[1 1 1 1 1 0 1 1]\n",
      " [0 1 1 1 1 1 1 1]\n",
      " [1 1 0 1 0 1 0 0]\n",
      " [1 1 0 0 1 1 0 0]\n",
      " [1 1 1 1 1 0 1 0]\n",
      " [1 0 1 1 1 1 1 1]\n",
      " [0 1 0 0 1 1 0 1]\n",
      " [1 0 1 1 1 1 1 1]]\n",
      "(0, 0) -> (0, 1) -> (1, 1) -> (2, 1) -> (2, 0) -> (3, 0) -> (4, 0) -> (4, 1) -> (4, 2) -> (5, 2) -> (5, 3) -> (4, 3) -> (4, 4) -> (5, 4) -> (6, 4) -> (7, 4) -> (7, 5) -> (6, 5) -> (5, 5) -> (5, 6) -> (5, 7) -> (6, 7) -> (7, 7)\n",
      "\n",
      "Test Case 2\n",
      "[[1 1 1 1 1 1 1 1]\n",
      " [1 1 1 0 1 1 1 1]\n",
      " [0 0 1 1 1 1 1 1]\n",
      " [0 1 1 0 0 1 0 0]\n",
      " [0 0 1 1 1 1 1 0]\n",
      " [0 0 1 0 1 1 1 1]\n",
      " [1 1 1 0 1 1 0 1]]\n",
      "(0, 0) -> (1, 0) -> (1, 1) -> (0, 1) -> (0, 2) -> (1, 2) -> (2, 2) -> (3, 2) -> (4, 2) -> (4, 3) -> (4, 4) -> (5, 4) -> (6, 4) -> (6, 5) -> (5, 5) -> (4, 5) -> (4, 6) -> (5, 6) -> (5, 7) -> (6, 7)\n",
      "\n",
      "Test Case 3\n",
      "[[1 1 1 1 1 0 0 1 1]\n",
      " [0 1 1 0 0 0 1 1 1]\n",
      " [1 1 1 0 0 1 1 1 1]\n",
      " [0 1 1 1 1 1 1 1 1]\n",
      " [1 1 1 1 1 0 1 0 1]\n",
      " [1 1 1 1 1 1 0 1 1]\n",
      " [1 1 1 1 1 0 1 0 1]\n",
      " [1 1 1 1 1 1 1 0 1]\n",
      " [0 0 1 1 1 1 1 1 1]\n",
      " [1 1 1 1 1 1 1 1 1]]\n",
      "(0, 0) -> (0, 1) -> (1, 1) -> (2, 1) -> (3, 1) -> (4, 1) -> (4, 0) -> (5, 0) -> (6, 0) -> (7, 0) -> (7, 1) -> (6, 1) -> (5, 1) -> (5, 2) -> (4, 2) -> (3, 2) -> (3, 3) -> (4, 3) -> (5, 3) -> (6, 3) -> (6, 2) -> (7, 2) -> (8, 2) -> (9, 2) -> (9, 3) -> (8, 3) -> (7, 3) -> (7, 4) -> (6, 4) -> (5, 4) -> (4, 4) -> (3, 4) -> (3, 5) -> (2, 5) -> (2, 6) -> (1, 6) -> (1, 7) -> (0, 7) -> (0, 8) -> (1, 8) -> (2, 8) -> (2, 7) -> (3, 7) -> (3, 8) -> (4, 8) -> (5, 8) -> (6, 8) -> (7, 8) -> (8, 8) -> (8, 7) -> (8, 6) -> (7, 6) -> (7, 5) -> (8, 5) -> (8, 4) -> (9, 4) -> (9, 5) -> (9, 6) -> (9, 7) -> (9, 8)\n",
      "\n",
      "Test Case 4\n",
      "[[1 1 1 0 1 1 0 1 0]\n",
      " [1 1 1 1 1 0 1 1 1]\n",
      " [0 0 1 1 1 0 0 0 0]\n",
      " [1 1 1 1 1 1 1 1 0]\n",
      " [1 1 1 1 1 1 1 1 1]\n",
      " [1 1 1 1 1 1 1 1 0]\n",
      " [1 1 1 1 1 1 1 1 1]\n",
      " [1 0 1 0 1 1 1 1 1]]\n",
      "(0, 0) -> (1, 0) -> (1, 1) -> (0, 1) -> (0, 2) -> (1, 2) -> (2, 2) -> (3, 2) -> (3, 1) -> (3, 0) -> (4, 0) -> (5, 0) -> (6, 0) -> (6, 1) -> (5, 1) -> (4, 1) -> (4, 2) -> (5, 2) -> (6, 2) -> (6, 3) -> (5, 3) -> (4, 3) -> (3, 3) -> (2, 3) -> (1, 3) -> (1, 4) -> (2, 4) -> (3, 4) -> (4, 4) -> (5, 4) -> (6, 4) -> (7, 4) -> (7, 5) -> (6, 5) -> (5, 5) -> (4, 5) -> (3, 5) -> (3, 6) -> (4, 6) -> (5, 6) -> (6, 6) -> (7, 6) -> (7, 7) -> (6, 7) -> (6, 8) -> (7, 8)\n",
      "\n",
      "Test Case 5\n",
      "[[1 1 1 1 1 0 1 1 1 0]\n",
      " [1 0 0 1 0 1 1 1 1 1]\n",
      " [1 1 0 0 1 0 1 1 1 1]\n",
      " [1 1 1 1 1 0 0 1 1 0]\n",
      " [1 1 1 1 1 1 1 0 1 1]\n",
      " [0 1 0 0 0 0 1 1 1 1]]\n",
      "(0, 0) -> (1, 0) -> (2, 0) -> (3, 0) -> (4, 0) -> (4, 1) -> (3, 1) -> (3, 2) -> (4, 2) -> (4, 3) -> (3, 3) -> (3, 4) -> (4, 4) -> (4, 5) -> (4, 6) -> (5, 6) -> (5, 7) -> (5, 8) -> (4, 8) -> (4, 9) -> (5, 9)\n",
      "\n"
     ]
    }
   ],
   "source": [
    "As = np.load(\"test.npy\", allow_pickle=True)\n",
    "for test in range(len(As)):\n",
    "    A = As[test]\n",
    "    print(\"Test Case %d\" % test)\n",
    "    print(A) \n",
    "    DFS(A) \n",
    "    print()"
   ]
  },
  {
   "cell_type": "markdown",
   "id": "8949e155",
   "metadata": {},
   "source": [
    "## 3b. BFS"
   ]
  },
  {
   "cell_type": "code",
   "execution_count": 2,
   "id": "347c0de7",
   "metadata": {},
   "outputs": [],
   "source": [
    "def BFS(A):\n",
    "    M = A.shape[0]\n",
    "    N = A.shape[1]\n",
    "    visited = np.zeros_like(A)\n",
    "    prevx = np.ones_like(A) * -1\n",
    "    prevy = np.ones_like(A) * -1\n",
    "    queue = [(0, 0)]\n",
    "    visited[0][0] = 1\n",
    "    while (len(queue) > 0):\n",
    "        x, y = queue.pop(0)\n",
    "        for dx, dy in [(-1, 0), (0, -1), (1, 0), (0, 1)]:\n",
    "            u = x + dx\n",
    "            v = y + dy\n",
    "            if (0 <= u) and (u < M) and (0 <= v) and (v < N) and (A[u][v] != 0) and visited[u][v] == 0:\n",
    "                prevx[u][v] = x\n",
    "                prevy[u][v] = y\n",
    "                queue.append((u, v))\n",
    "                visited[u][v] = 1\n",
    "    path = []\n",
    "    x, y = M - 1, N - 1\n",
    "    while (x != 0 or y != 0):\n",
    "        u, v = prevx[x][y], prevy[x][y]\n",
    "        path.append((u, v))\n",
    "        x, y = u, v\n",
    "    for u, v in path[::-1]:\n",
    "        print(\"(%d, %d) -> \" % (u, v), end=\"\")\n",
    "    print(\"(%d, %d)\" % (M - 1, N - 1))"
   ]
  },
  {
   "cell_type": "code",
   "execution_count": 3,
   "id": "0e0fa318",
   "metadata": {
    "scrolled": true
   },
   "outputs": [
    {
     "name": "stdout",
     "output_type": "stream",
     "text": [
      "Test Case 0\n",
      "[[1 1 1 1 0 1 1 0]\n",
      " [1 1 1 1 0 1 0 1]\n",
      " [1 1 0 1 1 1 1 1]\n",
      " [1 1 1 1 0 1 0 1]\n",
      " [1 1 1 0 1 1 0 1]\n",
      " [1 1 1 0 1 1 1 1]\n",
      " [1 1 1 1 0 0 1 0]\n",
      " [1 1 0 1 1 1 1 1]\n",
      " [0 0 0 0 1 1 1 1]]\n",
      "(0, 0) -> (1, 0) -> (2, 0) -> (3, 0) -> (4, 0) -> (5, 0) -> (6, 0) -> (6, 1) -> (6, 2) -> (6, 3) -> (7, 3) -> (7, 4) -> (8, 4) -> (8, 5) -> (8, 6) -> (8, 7)\n",
      "\n",
      "Test Case 1\n",
      "[[1 1 1 1 1 0 1 1]\n",
      " [0 1 1 1 1 1 1 1]\n",
      " [1 1 0 1 0 1 0 0]\n",
      " [1 1 0 0 1 1 0 0]\n",
      " [1 1 1 1 1 0 1 0]\n",
      " [1 0 1 1 1 1 1 1]\n",
      " [0 1 0 0 1 1 0 1]\n",
      " [1 0 1 1 1 1 1 1]]\n",
      "(0, 0) -> (0, 1) -> (1, 1) -> (2, 1) -> (3, 1) -> (4, 1) -> (4, 2) -> (5, 2) -> (5, 3) -> (5, 4) -> (6, 4) -> (7, 4) -> (7, 5) -> (7, 6) -> (7, 7)\n",
      "\n",
      "Test Case 2\n",
      "[[1 1 1 1 1 1 1 1]\n",
      " [1 1 1 0 1 1 1 1]\n",
      " [0 0 1 1 1 1 1 1]\n",
      " [0 1 1 0 0 1 0 0]\n",
      " [0 0 1 1 1 1 1 0]\n",
      " [0 0 1 0 1 1 1 1]\n",
      " [1 1 1 0 1 1 0 1]]\n",
      "(0, 0) -> (1, 0) -> (1, 1) -> (1, 2) -> (2, 2) -> (3, 2) -> (4, 2) -> (4, 3) -> (4, 4) -> (5, 4) -> (5, 5) -> (5, 6) -> (5, 7) -> (6, 7)\n",
      "\n",
      "Test Case 3\n",
      "[[1 1 1 1 1 0 0 1 1]\n",
      " [0 1 1 0 0 0 1 1 1]\n",
      " [1 1 1 0 0 1 1 1 1]\n",
      " [0 1 1 1 1 1 1 1 1]\n",
      " [1 1 1 1 1 0 1 0 1]\n",
      " [1 1 1 1 1 1 0 1 1]\n",
      " [1 1 1 1 1 0 1 0 1]\n",
      " [1 1 1 1 1 1 1 0 1]\n",
      " [0 0 1 1 1 1 1 1 1]\n",
      " [1 1 1 1 1 1 1 1 1]]\n",
      "(0, 0) -> (0, 1) -> (1, 1) -> (2, 1) -> (3, 1) -> (4, 1) -> (5, 1) -> (6, 1) -> (7, 1) -> (7, 2) -> (8, 2) -> (9, 2) -> (9, 3) -> (9, 4) -> (9, 5) -> (9, 6) -> (9, 7) -> (9, 8)\n",
      "\n",
      "Test Case 4\n",
      "[[1 1 1 0 1 1 0 1 0]\n",
      " [1 1 1 1 1 0 1 1 1]\n",
      " [0 0 1 1 1 0 0 0 0]\n",
      " [1 1 1 1 1 1 1 1 0]\n",
      " [1 1 1 1 1 1 1 1 1]\n",
      " [1 1 1 1 1 1 1 1 0]\n",
      " [1 1 1 1 1 1 1 1 1]\n",
      " [1 0 1 0 1 1 1 1 1]]\n",
      "(0, 0) -> (1, 0) -> (1, 1) -> (1, 2) -> (2, 2) -> (3, 2) -> (4, 2) -> (5, 2) -> (6, 2) -> (6, 3) -> (6, 4) -> (7, 4) -> (7, 5) -> (7, 6) -> (7, 7) -> (7, 8)\n",
      "\n",
      "Test Case 5\n",
      "[[1 1 1 1 1 0 1 1 1 0]\n",
      " [1 0 0 1 0 1 1 1 1 1]\n",
      " [1 1 0 0 1 0 1 1 1 1]\n",
      " [1 1 1 1 1 0 0 1 1 0]\n",
      " [1 1 1 1 1 1 1 0 1 1]\n",
      " [0 1 0 0 0 0 1 1 1 1]]\n",
      "(0, 0) -> (1, 0) -> (2, 0) -> (3, 0) -> (4, 0) -> (4, 1) -> (4, 2) -> (4, 3) -> (4, 4) -> (4, 5) -> (4, 6) -> (5, 6) -> (5, 7) -> (5, 8) -> (5, 9)\n",
      "\n"
     ]
    }
   ],
   "source": [
    "As = np.load(\"test.npy\", allow_pickle=True)\n",
    "for test in range(len(As)):\n",
    "    A = As[test]\n",
    "    print(\"Test Case %d\" % test)\n",
    "    print(A) \n",
    "    BFS(A)  \n",
    "    print()"
   ]
  },
  {
   "cell_type": "markdown",
   "id": "f40d6c88",
   "metadata": {},
   "source": [
    "## 3c. Advanced question"
   ]
  },
  {
   "cell_type": "code",
   "execution_count": 4,
   "id": "e9c2a6cb",
   "metadata": {},
   "outputs": [],
   "source": [
    "import heapq\n",
    "def findMinimum(A):\n",
    "    M = A.shape[0]\n",
    "    N = A.shape[1]\n",
    "    visited = np.zeros_like(A)\n",
    "    prevx = np.ones_like(A) * -1\n",
    "    prevy = np.ones_like(A) * -1\n",
    "    cost = np.ones_like(A) * 100000\n",
    "    queue = []\n",
    "    heapq.heappush(queue, (A[0][0], (0, 0)))\n",
    "    cost[0][0] = A[0][0]\n",
    "    while (len(queue) > 0):\n",
    "        c, (x, y) = heapq.heappop(queue)\n",
    "        visited[x][y] = 1\n",
    "        if (cost[x][y] != c):\n",
    "            continue\n",
    "        for dx, dy in [(-1, 0), (0, -1), (1, 0), (0, 1)]:\n",
    "            u = x + dx\n",
    "            v = y + dy\n",
    "            if (0 <= u) and (u < M) and (0 <= v) and (v < N) and (A[u][v] != 0) and visited[u][v] == 0 and cost[x][y] + A[u][v] < cost[u][v]:\n",
    "                prevx[u][v] = x\n",
    "                prevy[u][v] = y\n",
    "                cost[u][v] = cost[x][y] + A[u][v]\n",
    "                heapq.heappush(queue, (cost[u][v], (u, v)))\n",
    "    path = []\n",
    "    x, y = M - 1, N - 1\n",
    "    while (x != 0 or y != 0):\n",
    "        u, v = prevx[x][y], prevy[x][y]\n",
    "        path.append((u, v))\n",
    "        x, y = u, v\n",
    "    print(\"Cost: %d\" % cost[M-1][N-1])\n",
    "    for u, v in path[::-1]:\n",
    "        print(\"(%d, %d) -> \" % (u, v), end=\"\")\n",
    "    print(\"(%d, %d)\" % (M - 1, N - 1))"
   ]
  },
  {
   "cell_type": "code",
   "execution_count": 5,
   "id": "1eed9b32",
   "metadata": {
    "scrolled": true
   },
   "outputs": [
    {
     "name": "stdout",
     "output_type": "stream",
     "text": [
      "Test Case 0\n",
      "[[1 1 1 1 0 1 1 0]\n",
      " [1 1 1 1 0 1 0 1]\n",
      " [1 1 0 1 1 1 1 1]\n",
      " [1 1 1 1 0 1 0 1]\n",
      " [1 1 1 0 1 1 0 1]\n",
      " [1 1 1 0 1 1 1 1]\n",
      " [1 1 1 1 0 0 1 0]\n",
      " [1 1 0 1 1 1 1 1]\n",
      " [0 0 0 0 1 1 1 1]]\n",
      "Cost: 16\n",
      "(0, 0) -> (0, 1) -> (0, 2) -> (0, 3) -> (1, 3) -> (2, 3) -> (2, 4) -> (2, 5) -> (3, 5) -> (4, 5) -> (5, 5) -> (5, 6) -> (6, 6) -> (7, 6) -> (7, 7) -> (8, 7)\n",
      "\n",
      "Test Case 1\n",
      "[[1 1 1 1 1 0 1 1]\n",
      " [0 1 1 1 1 1 1 1]\n",
      " [1 1 0 1 0 1 0 0]\n",
      " [1 1 0 0 1 1 0 0]\n",
      " [1 1 1 1 1 0 1 0]\n",
      " [1 0 1 1 1 1 1 1]\n",
      " [0 1 0 0 1 1 0 1]\n",
      " [1 0 1 1 1 1 1 1]]\n",
      "Cost: 15\n",
      "(0, 0) -> (0, 1) -> (1, 1) -> (2, 1) -> (3, 1) -> (4, 1) -> (4, 2) -> (4, 3) -> (4, 4) -> (5, 4) -> (5, 5) -> (5, 6) -> (5, 7) -> (6, 7) -> (7, 7)\n",
      "\n",
      "Test Case 2\n",
      "[[1 1 1 1 1 1 1 1]\n",
      " [1 1 1 0 1 1 1 1]\n",
      " [0 0 1 1 1 1 1 1]\n",
      " [0 1 1 0 0 1 0 0]\n",
      " [0 0 1 1 1 1 1 0]\n",
      " [0 0 1 0 1 1 1 1]\n",
      " [1 1 1 0 1 1 0 1]]\n",
      "Cost: 14\n",
      "(0, 0) -> (0, 1) -> (0, 2) -> (0, 3) -> (0, 4) -> (0, 5) -> (1, 5) -> (2, 5) -> (3, 5) -> (4, 5) -> (4, 6) -> (5, 6) -> (5, 7) -> (6, 7)\n",
      "\n",
      "Test Case 3\n",
      "[[1 1 1 1 1 0 0 1 1]\n",
      " [0 1 1 0 0 0 1 1 1]\n",
      " [1 1 1 0 0 1 1 1 1]\n",
      " [0 1 1 1 1 1 1 1 1]\n",
      " [1 1 1 1 1 0 1 0 1]\n",
      " [1 1 1 1 1 1 0 1 1]\n",
      " [1 1 1 1 1 0 1 0 1]\n",
      " [1 1 1 1 1 1 1 0 1]\n",
      " [0 0 1 1 1 1 1 1 1]\n",
      " [1 1 1 1 1 1 1 1 1]]\n",
      "Cost: 18\n",
      "(0, 0) -> (0, 1) -> (0, 2) -> (1, 2) -> (2, 2) -> (3, 2) -> (3, 3) -> (3, 4) -> (3, 5) -> (3, 6) -> (3, 7) -> (3, 8) -> (4, 8) -> (5, 8) -> (6, 8) -> (7, 8) -> (8, 8) -> (9, 8)\n",
      "\n",
      "Test Case 4\n",
      "[[1 1 1 0 1 1 0 1 0]\n",
      " [1 1 1 1 1 0 1 1 1]\n",
      " [0 0 1 1 1 0 0 0 0]\n",
      " [1 1 1 1 1 1 1 1 0]\n",
      " [1 1 1 1 1 1 1 1 1]\n",
      " [1 1 1 1 1 1 1 1 0]\n",
      " [1 1 1 1 1 1 1 1 1]\n",
      " [1 0 1 0 1 1 1 1 1]]\n",
      "Cost: 16\n",
      "(0, 0) -> (0, 1) -> (0, 2) -> (1, 2) -> (1, 3) -> (1, 4) -> (2, 4) -> (3, 4) -> (3, 5) -> (3, 6) -> (3, 7) -> (4, 7) -> (5, 7) -> (6, 7) -> (6, 8) -> (7, 8)\n",
      "\n",
      "Test Case 5\n",
      "[[1 1 1 1 1 0 1 1 1 0]\n",
      " [1 0 0 1 0 1 1 1 1 1]\n",
      " [1 1 0 0 1 0 1 1 1 1]\n",
      " [1 1 1 1 1 0 0 1 1 0]\n",
      " [1 1 1 1 1 1 1 0 1 1]\n",
      " [0 1 0 0 0 0 1 1 1 1]]\n",
      "Cost: 15\n",
      "(0, 0) -> (1, 0) -> (2, 0) -> (2, 1) -> (3, 1) -> (3, 2) -> (3, 3) -> (3, 4) -> (4, 4) -> (4, 5) -> (4, 6) -> (5, 6) -> (5, 7) -> (5, 8) -> (5, 9)\n",
      "\n"
     ]
    }
   ],
   "source": [
    "As = np.load(\"test.npy\", allow_pickle=True)\n",
    "for test in range(len(As)):\n",
    "    A = As[test]\n",
    "    print(\"Test Case %d\" % test)\n",
    "    print(A) \n",
    "    findMinimum(A) \n",
    "    print()"
   ]
  }
 ],
 "metadata": {
  "kernelspec": {
   "display_name": "Python 3 (ipykernel)",
   "language": "python",
   "name": "python3"
  },
  "language_info": {
   "codemirror_mode": {
    "name": "ipython",
    "version": 3
   },
   "file_extension": ".py",
   "mimetype": "text/x-python",
   "name": "python",
   "nbconvert_exporter": "python",
   "pygments_lexer": "ipython3",
   "version": "3.8.13"
  }
 },
 "nbformat": 4,
 "nbformat_minor": 5
}
