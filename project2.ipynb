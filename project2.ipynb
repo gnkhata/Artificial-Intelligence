{
  "cells": [
    {
      "cell_type": "markdown",
      "metadata": {
        "id": "xcRVUziqz7hB"
      },
      "source": [
        "# Assignment 4\n",
        "\n",
        "This is an basecode for assignment 4 of Artificial Intelligence class (CSCE-4613), Spring 2023\n"
      ]
    },
    {
      "cell_type": "code",
      "execution_count": 1,
      "metadata": {
        "id": "Ih72pU-4h0BT",
        "vscode": {
          "languageId": "python"
        }
      },
      "outputs": [],
      "source": [
        "import torch\n",
        "import torch.nn as nn\n",
        "import torchvision\n",
        "\n",
        "import matplotlib.pyplot as plt \n",
        "from timeit import default_timer as timer\n",
        "from datetime import timedelta\n",
        "from sklearn.metrics import confusion_matrix"
      ]
    },
    {
      "cell_type": "markdown",
      "metadata": {
        "id": "Q6NBXrZkzlhS"
      },
      "source": [
        "## Binary Network\n",
        "\n",
        "## Define a binary network class\n"
      ]
    },
    {
      "cell_type": "code",
      "execution_count": 2,
      "metadata": {
        "id": "XXkjOLlQh4B0",
        "vscode": {
          "languageId": "python"
        }
      },
      "outputs": [],
      "source": [
        "class BinaryNetwork(nn.Module):\n",
        "  def __init__(self, hidden_dims = [4]):\n",
        "    super(BinaryNetwork, self).__init__()\n",
        "    self.network_dims = [2] + hidden_dims + [1]\n",
        "    self.layers = [] \n",
        "    for i, dim in enumerate(self.network_dims[1:]):\n",
        "      prev_dim = self.network_dims[i]\n",
        "      dense = nn.Linear(in_features = prev_dim, out_features = dim, bias = True)\n",
        "      activation = nn.Sigmoid()\n",
        "      self.layers += [dense, activation]\n",
        "    self.layers = nn.ModuleList(self.layers)\n",
        "\n",
        "  def forward(self, x):\n",
        "    for layer in self.layers:\n",
        "      x = layer(x)\n",
        "    return x"
      ]
    },
    {
      "cell_type": "markdown",
      "metadata": {
        "id": "Jt_O-MPTzxo1"
      },
      "source": [
        "### Define data generator"
      ]
    },
    {
      "cell_type": "code",
      "execution_count": 3,
      "metadata": {
        "id": "ZU9RPLbqi-tL",
        "vscode": {
          "languageId": "python"
        }
      },
      "outputs": [],
      "source": [
        "def generate_data(operator = \"AND\"):\n",
        "  assert operator in [\"AND\", \"OR\", \"XOR\", \"NOR\"], \"%s operator is not valid\" % operator\n",
        "  data = []\n",
        "  label = [] \n",
        "  for i in range(2):\n",
        "    for j in range(2):\n",
        "      data.append([i, j])\n",
        "      if operator == \"AND\":\n",
        "        label.append(i & j)\n",
        "      elif operator == \"OR\":\n",
        "        label.append(i | j)\n",
        "      elif operator == \"XOR\":\n",
        "        label.append(i ^ j)\n",
        "      else:\n",
        "        label.append(not (i | j))\n",
        "  data = torch.as_tensor(data, dtype = torch.float32)\n",
        "  label = torch.as_tensor(label, dtype = torch.float32)\n",
        "  return data, label"
      ]
    },
    {
      "cell_type": "markdown",
      "metadata": {
        "id": "6rKa_T9az3G6"
      },
      "source": [
        "### Define the training framework"
      ]
    },
    {
      "cell_type": "code",
      "execution_count": 3,
      "metadata": {
        "id": "nbF7qM7LkqFc",
        "vscode": {
          "languageId": "python"
        }
      },
      "outputs": [],
      "source": []
    },
    {
      "cell_type": "markdown",
      "source": [
        "**Question 1a**\n",
        "\n",
        "This question has been answered in the report."
      ],
      "metadata": {
        "id": "kfZ5JJuitJ29"
      }
    },
    {
      "cell_type": "markdown",
      "source": [
        "**Question 1b**: **AND Operator**"
      ],
      "metadata": {
        "id": "TSn4WPTrqdCv"
      }
    },
    {
      "cell_type": "code",
      "source": [
        "model = BinaryNetwork( hidden_dims= [6,6,6])\n",
        "model.train()\n",
        "print(model)\n",
        "operator = \"AND\" \n",
        "inputs, labels = generate_data(operator = operator)\n",
        "n_iters = 1500\n",
        "learning_rate = 0.1\n",
        "bce_loss_fn = nn.BCELoss()\n",
        "optim = torch.optim.SGD(params = model.parameters(), lr = learning_rate, momentum=0.9)\n",
        "threshold = 0.5\n",
        "losses = []\n",
        "for i in range(1, n_iters + 1):\n",
        "  outputs = model(inputs)\n",
        "  outputs = outputs.reshape(-1)\n",
        "  \n",
        "  loss = bce_loss_fn(outputs, labels)\n",
        "  losses.append(loss)\n",
        "  predictions = (outputs > threshold).long()\n",
        "  \n",
        "  accuracy = (predictions == labels).float().mean() * 100.\n",
        "\n",
        "  optim.zero_grad()\n",
        "  loss.backward()\n",
        "  optim.step()\n",
        "\n",
        "  loss = loss.item() # Convert to Python Scalar\n",
        "  accuracy = accuracy.item() # Convert to Python Scalar\n",
        "\n",
        "  if i % 5 == 0:\n",
        "    print(\"[%d/%d]. Loss: %0.4f. Accuracy: %0.2f\" % (i, n_iters, loss, accuracy))\n",
        "\n",
        "model.eval()\n",
        "outputs = model(inputs)\n",
        "outputs = outputs.reshape(-1)\n",
        "predictions = (outputs > threshold).long()  \n",
        "accuracy = (predictions == labels).float().mean() * 100.\n",
        "accuracy = accuracy.item()\n",
        "#losses = losses.detach().numpy()\n",
        "\n",
        "with torch.no_grad():\n",
        "  plt.title(operator+\" Training Loss\")\n",
        "  plt.xlabel(\"Iterations\")\n",
        "  plt.ylabel(\"Loss\")\n",
        "  plt.plot(losses)\n",
        "print(\"Final Accuracy: %0.2f\" % (accuracy))\n",
        "torch.save(model.state_dict(), \"%s_Network.pth\" % operator)\n",
        "  # model.load_state_dict(torch.load(\"%s_Network.pth\" % operator)) # Load model in the next time you use"
      ],
      "metadata": {
        "colab": {
          "base_uri": "https://localhost:8080/",
          "height": 1000
        },
        "id": "ccSdYEFoqhI_",
        "outputId": "4927e653-cf54-4f9e-df69-ae6f3ded982f"
      },
      "execution_count": 4,
      "outputs": [
        {
          "output_type": "stream",
          "name": "stdout",
          "text": [
            "BinaryNetwork(\n",
            "  (layers): ModuleList(\n",
            "    (0): Linear(in_features=2, out_features=6, bias=True)\n",
            "    (1): Sigmoid()\n",
            "    (2): Linear(in_features=6, out_features=6, bias=True)\n",
            "    (3): Sigmoid()\n",
            "    (4): Linear(in_features=6, out_features=6, bias=True)\n",
            "    (5): Sigmoid()\n",
            "    (6): Linear(in_features=6, out_features=1, bias=True)\n",
            "    (7): Sigmoid()\n",
            "  )\n",
            ")\n",
            "[5/1500]. Loss: 0.6441. Accuracy: 75.00\n",
            "[10/1500]. Loss: 0.5873. Accuracy: 75.00\n",
            "[15/1500]. Loss: 0.6367. Accuracy: 75.00\n",
            "[20/1500]. Loss: 0.5865. Accuracy: 75.00\n",
            "[25/1500]. Loss: 0.5632. Accuracy: 75.00\n",
            "[30/1500]. Loss: 0.5764. Accuracy: 75.00\n",
            "[35/1500]. Loss: 0.5668. Accuracy: 75.00\n",
            "[40/1500]. Loss: 0.5625. Accuracy: 75.00\n",
            "[45/1500]. Loss: 0.5650. Accuracy: 75.00\n",
            "[50/1500]. Loss: 0.5633. Accuracy: 75.00\n",
            "[55/1500]. Loss: 0.5621. Accuracy: 75.00\n",
            "[60/1500]. Loss: 0.5627. Accuracy: 75.00\n",
            "[65/1500]. Loss: 0.5624. Accuracy: 75.00\n",
            "[70/1500]. Loss: 0.5621. Accuracy: 75.00\n",
            "[75/1500]. Loss: 0.5622. Accuracy: 75.00\n",
            "[80/1500]. Loss: 0.5621. Accuracy: 75.00\n",
            "[85/1500]. Loss: 0.5621. Accuracy: 75.00\n",
            "[90/1500]. Loss: 0.5621. Accuracy: 75.00\n",
            "[95/1500]. Loss: 0.5621. Accuracy: 75.00\n",
            "[100/1500]. Loss: 0.5620. Accuracy: 75.00\n",
            "[105/1500]. Loss: 0.5620. Accuracy: 75.00\n",
            "[110/1500]. Loss: 0.5620. Accuracy: 75.00\n",
            "[115/1500]. Loss: 0.5620. Accuracy: 75.00\n",
            "[120/1500]. Loss: 0.5620. Accuracy: 75.00\n",
            "[125/1500]. Loss: 0.5620. Accuracy: 75.00\n",
            "[130/1500]. Loss: 0.5619. Accuracy: 75.00\n",
            "[135/1500]. Loss: 0.5619. Accuracy: 75.00\n",
            "[140/1500]. Loss: 0.5619. Accuracy: 75.00\n",
            "[145/1500]. Loss: 0.5619. Accuracy: 75.00\n",
            "[150/1500]. Loss: 0.5619. Accuracy: 75.00\n",
            "[155/1500]. Loss: 0.5619. Accuracy: 75.00\n",
            "[160/1500]. Loss: 0.5618. Accuracy: 75.00\n",
            "[165/1500]. Loss: 0.5618. Accuracy: 75.00\n",
            "[170/1500]. Loss: 0.5618. Accuracy: 75.00\n",
            "[175/1500]. Loss: 0.5618. Accuracy: 75.00\n",
            "[180/1500]. Loss: 0.5618. Accuracy: 75.00\n",
            "[185/1500]. Loss: 0.5618. Accuracy: 75.00\n",
            "[190/1500]. Loss: 0.5617. Accuracy: 75.00\n",
            "[195/1500]. Loss: 0.5617. Accuracy: 75.00\n",
            "[200/1500]. Loss: 0.5617. Accuracy: 75.00\n",
            "[205/1500]. Loss: 0.5617. Accuracy: 75.00\n",
            "[210/1500]. Loss: 0.5616. Accuracy: 75.00\n",
            "[215/1500]. Loss: 0.5616. Accuracy: 75.00\n",
            "[220/1500]. Loss: 0.5616. Accuracy: 75.00\n",
            "[225/1500]. Loss: 0.5616. Accuracy: 75.00\n",
            "[230/1500]. Loss: 0.5615. Accuracy: 75.00\n",
            "[235/1500]. Loss: 0.5615. Accuracy: 75.00\n",
            "[240/1500]. Loss: 0.5615. Accuracy: 75.00\n",
            "[245/1500]. Loss: 0.5615. Accuracy: 75.00\n",
            "[250/1500]. Loss: 0.5614. Accuracy: 75.00\n",
            "[255/1500]. Loss: 0.5614. Accuracy: 75.00\n",
            "[260/1500]. Loss: 0.5614. Accuracy: 75.00\n",
            "[265/1500]. Loss: 0.5613. Accuracy: 75.00\n",
            "[270/1500]. Loss: 0.5613. Accuracy: 75.00\n",
            "[275/1500]. Loss: 0.5612. Accuracy: 75.00\n",
            "[280/1500]. Loss: 0.5612. Accuracy: 75.00\n",
            "[285/1500]. Loss: 0.5612. Accuracy: 75.00\n",
            "[290/1500]. Loss: 0.5611. Accuracy: 75.00\n",
            "[295/1500]. Loss: 0.5611. Accuracy: 75.00\n",
            "[300/1500]. Loss: 0.5610. Accuracy: 75.00\n",
            "[305/1500]. Loss: 0.5610. Accuracy: 75.00\n",
            "[310/1500]. Loss: 0.5609. Accuracy: 75.00\n",
            "[315/1500]. Loss: 0.5609. Accuracy: 75.00\n",
            "[320/1500]. Loss: 0.5608. Accuracy: 75.00\n",
            "[325/1500]. Loss: 0.5608. Accuracy: 75.00\n",
            "[330/1500]. Loss: 0.5607. Accuracy: 75.00\n",
            "[335/1500]. Loss: 0.5606. Accuracy: 75.00\n",
            "[340/1500]. Loss: 0.5606. Accuracy: 75.00\n",
            "[345/1500]. Loss: 0.5605. Accuracy: 75.00\n",
            "[350/1500]. Loss: 0.5604. Accuracy: 75.00\n",
            "[355/1500]. Loss: 0.5604. Accuracy: 75.00\n",
            "[360/1500]. Loss: 0.5603. Accuracy: 75.00\n",
            "[365/1500]. Loss: 0.5602. Accuracy: 75.00\n",
            "[370/1500]. Loss: 0.5601. Accuracy: 75.00\n",
            "[375/1500]. Loss: 0.5600. Accuracy: 75.00\n",
            "[380/1500]. Loss: 0.5599. Accuracy: 75.00\n",
            "[385/1500]. Loss: 0.5598. Accuracy: 75.00\n",
            "[390/1500]. Loss: 0.5597. Accuracy: 75.00\n",
            "[395/1500]. Loss: 0.5596. Accuracy: 75.00\n",
            "[400/1500]. Loss: 0.5594. Accuracy: 75.00\n",
            "[405/1500]. Loss: 0.5593. Accuracy: 75.00\n",
            "[410/1500]. Loss: 0.5592. Accuracy: 75.00\n",
            "[415/1500]. Loss: 0.5590. Accuracy: 75.00\n",
            "[420/1500]. Loss: 0.5588. Accuracy: 75.00\n",
            "[425/1500]. Loss: 0.5587. Accuracy: 75.00\n",
            "[430/1500]. Loss: 0.5585. Accuracy: 75.00\n",
            "[435/1500]. Loss: 0.5583. Accuracy: 75.00\n",
            "[440/1500]. Loss: 0.5581. Accuracy: 75.00\n",
            "[445/1500]. Loss: 0.5579. Accuracy: 75.00\n",
            "[450/1500]. Loss: 0.5576. Accuracy: 75.00\n",
            "[455/1500]. Loss: 0.5574. Accuracy: 75.00\n",
            "[460/1500]. Loss: 0.5571. Accuracy: 75.00\n",
            "[465/1500]. Loss: 0.5568. Accuracy: 75.00\n",
            "[470/1500]. Loss: 0.5564. Accuracy: 75.00\n",
            "[475/1500]. Loss: 0.5561. Accuracy: 75.00\n",
            "[480/1500]. Loss: 0.5557. Accuracy: 75.00\n",
            "[485/1500]. Loss: 0.5553. Accuracy: 75.00\n",
            "[490/1500]. Loss: 0.5548. Accuracy: 75.00\n",
            "[495/1500]. Loss: 0.5543. Accuracy: 75.00\n",
            "[500/1500]. Loss: 0.5538. Accuracy: 75.00\n",
            "[505/1500]. Loss: 0.5532. Accuracy: 75.00\n",
            "[510/1500]. Loss: 0.5526. Accuracy: 75.00\n",
            "[515/1500]. Loss: 0.5518. Accuracy: 75.00\n",
            "[520/1500]. Loss: 0.5511. Accuracy: 75.00\n",
            "[525/1500]. Loss: 0.5502. Accuracy: 75.00\n",
            "[530/1500]. Loss: 0.5492. Accuracy: 75.00\n",
            "[535/1500]. Loss: 0.5481. Accuracy: 75.00\n",
            "[540/1500]. Loss: 0.5469. Accuracy: 75.00\n",
            "[545/1500]. Loss: 0.5456. Accuracy: 75.00\n",
            "[550/1500]. Loss: 0.5441. Accuracy: 75.00\n",
            "[555/1500]. Loss: 0.5424. Accuracy: 75.00\n",
            "[560/1500]. Loss: 0.5404. Accuracy: 75.00\n",
            "[565/1500]. Loss: 0.5382. Accuracy: 75.00\n",
            "[570/1500]. Loss: 0.5357. Accuracy: 75.00\n",
            "[575/1500]. Loss: 0.5328. Accuracy: 75.00\n",
            "[580/1500]. Loss: 0.5294. Accuracy: 75.00\n",
            "[585/1500]. Loss: 0.5255. Accuracy: 75.00\n",
            "[590/1500]. Loss: 0.5210. Accuracy: 75.00\n",
            "[595/1500]. Loss: 0.5157. Accuracy: 75.00\n",
            "[600/1500]. Loss: 0.5095. Accuracy: 75.00\n",
            "[605/1500]. Loss: 0.5022. Accuracy: 75.00\n",
            "[610/1500]. Loss: 0.4936. Accuracy: 75.00\n",
            "[615/1500]. Loss: 0.4834. Accuracy: 75.00\n",
            "[620/1500]. Loss: 0.4714. Accuracy: 75.00\n",
            "[625/1500]. Loss: 0.4572. Accuracy: 75.00\n",
            "[630/1500]. Loss: 0.4406. Accuracy: 75.00\n",
            "[635/1500]. Loss: 0.4213. Accuracy: 75.00\n",
            "[640/1500]. Loss: 0.3991. Accuracy: 75.00\n",
            "[645/1500]. Loss: 0.3739. Accuracy: 75.00\n",
            "[650/1500]. Loss: 0.3456. Accuracy: 75.00\n",
            "[655/1500]. Loss: 0.3145. Accuracy: 75.00\n",
            "[660/1500]. Loss: 0.2808. Accuracy: 100.00\n",
            "[665/1500]. Loss: 0.2453. Accuracy: 100.00\n",
            "[670/1500]. Loss: 0.2092. Accuracy: 100.00\n",
            "[675/1500]. Loss: 0.1742. Accuracy: 100.00\n",
            "[680/1500]. Loss: 0.1422. Accuracy: 100.00\n",
            "[685/1500]. Loss: 0.1146. Accuracy: 100.00\n",
            "[690/1500]. Loss: 0.0921. Accuracy: 100.00\n",
            "[695/1500]. Loss: 0.0744. Accuracy: 100.00\n",
            "[700/1500]. Loss: 0.0608. Accuracy: 100.00\n",
            "[705/1500]. Loss: 0.0504. Accuracy: 100.00\n",
            "[710/1500]. Loss: 0.0425. Accuracy: 100.00\n",
            "[715/1500]. Loss: 0.0364. Accuracy: 100.00\n",
            "[720/1500]. Loss: 0.0317. Accuracy: 100.00\n",
            "[725/1500]. Loss: 0.0279. Accuracy: 100.00\n",
            "[730/1500]. Loss: 0.0249. Accuracy: 100.00\n",
            "[735/1500]. Loss: 0.0225. Accuracy: 100.00\n",
            "[740/1500]. Loss: 0.0205. Accuracy: 100.00\n",
            "[745/1500]. Loss: 0.0188. Accuracy: 100.00\n",
            "[750/1500]. Loss: 0.0173. Accuracy: 100.00\n",
            "[755/1500]. Loss: 0.0161. Accuracy: 100.00\n",
            "[760/1500]. Loss: 0.0150. Accuracy: 100.00\n",
            "[765/1500]. Loss: 0.0140. Accuracy: 100.00\n",
            "[770/1500]. Loss: 0.0132. Accuracy: 100.00\n",
            "[775/1500]. Loss: 0.0125. Accuracy: 100.00\n",
            "[780/1500]. Loss: 0.0118. Accuracy: 100.00\n",
            "[785/1500]. Loss: 0.0112. Accuracy: 100.00\n",
            "[790/1500]. Loss: 0.0107. Accuracy: 100.00\n",
            "[795/1500]. Loss: 0.0102. Accuracy: 100.00\n",
            "[800/1500]. Loss: 0.0097. Accuracy: 100.00\n",
            "[805/1500]. Loss: 0.0093. Accuracy: 100.00\n",
            "[810/1500]. Loss: 0.0089. Accuracy: 100.00\n",
            "[815/1500]. Loss: 0.0086. Accuracy: 100.00\n",
            "[820/1500]. Loss: 0.0082. Accuracy: 100.00\n",
            "[825/1500]. Loss: 0.0079. Accuracy: 100.00\n",
            "[830/1500]. Loss: 0.0076. Accuracy: 100.00\n",
            "[835/1500]. Loss: 0.0074. Accuracy: 100.00\n",
            "[840/1500]. Loss: 0.0071. Accuracy: 100.00\n",
            "[845/1500]. Loss: 0.0069. Accuracy: 100.00\n",
            "[850/1500]. Loss: 0.0067. Accuracy: 100.00\n",
            "[855/1500]. Loss: 0.0065. Accuracy: 100.00\n",
            "[860/1500]. Loss: 0.0063. Accuracy: 100.00\n",
            "[865/1500]. Loss: 0.0061. Accuracy: 100.00\n",
            "[870/1500]. Loss: 0.0059. Accuracy: 100.00\n",
            "[875/1500]. Loss: 0.0058. Accuracy: 100.00\n",
            "[880/1500]. Loss: 0.0056. Accuracy: 100.00\n",
            "[885/1500]. Loss: 0.0054. Accuracy: 100.00\n",
            "[890/1500]. Loss: 0.0053. Accuracy: 100.00\n",
            "[895/1500]. Loss: 0.0052. Accuracy: 100.00\n",
            "[900/1500]. Loss: 0.0050. Accuracy: 100.00\n",
            "[905/1500]. Loss: 0.0049. Accuracy: 100.00\n",
            "[910/1500]. Loss: 0.0048. Accuracy: 100.00\n",
            "[915/1500]. Loss: 0.0047. Accuracy: 100.00\n",
            "[920/1500]. Loss: 0.0046. Accuracy: 100.00\n",
            "[925/1500]. Loss: 0.0045. Accuracy: 100.00\n",
            "[930/1500]. Loss: 0.0044. Accuracy: 100.00\n",
            "[935/1500]. Loss: 0.0043. Accuracy: 100.00\n",
            "[940/1500]. Loss: 0.0042. Accuracy: 100.00\n",
            "[945/1500]. Loss: 0.0041. Accuracy: 100.00\n",
            "[950/1500]. Loss: 0.0040. Accuracy: 100.00\n",
            "[955/1500]. Loss: 0.0040. Accuracy: 100.00\n",
            "[960/1500]. Loss: 0.0039. Accuracy: 100.00\n",
            "[965/1500]. Loss: 0.0038. Accuracy: 100.00\n",
            "[970/1500]. Loss: 0.0037. Accuracy: 100.00\n",
            "[975/1500]. Loss: 0.0037. Accuracy: 100.00\n",
            "[980/1500]. Loss: 0.0036. Accuracy: 100.00\n",
            "[985/1500]. Loss: 0.0035. Accuracy: 100.00\n",
            "[990/1500]. Loss: 0.0035. Accuracy: 100.00\n",
            "[995/1500]. Loss: 0.0034. Accuracy: 100.00\n",
            "[1000/1500]. Loss: 0.0034. Accuracy: 100.00\n",
            "[1005/1500]. Loss: 0.0033. Accuracy: 100.00\n",
            "[1010/1500]. Loss: 0.0032. Accuracy: 100.00\n",
            "[1015/1500]. Loss: 0.0032. Accuracy: 100.00\n",
            "[1020/1500]. Loss: 0.0031. Accuracy: 100.00\n",
            "[1025/1500]. Loss: 0.0031. Accuracy: 100.00\n",
            "[1030/1500]. Loss: 0.0030. Accuracy: 100.00\n",
            "[1035/1500]. Loss: 0.0030. Accuracy: 100.00\n",
            "[1040/1500]. Loss: 0.0030. Accuracy: 100.00\n",
            "[1045/1500]. Loss: 0.0029. Accuracy: 100.00\n",
            "[1050/1500]. Loss: 0.0029. Accuracy: 100.00\n",
            "[1055/1500]. Loss: 0.0028. Accuracy: 100.00\n",
            "[1060/1500]. Loss: 0.0028. Accuracy: 100.00\n",
            "[1065/1500]. Loss: 0.0027. Accuracy: 100.00\n",
            "[1070/1500]. Loss: 0.0027. Accuracy: 100.00\n",
            "[1075/1500]. Loss: 0.0027. Accuracy: 100.00\n",
            "[1080/1500]. Loss: 0.0026. Accuracy: 100.00\n",
            "[1085/1500]. Loss: 0.0026. Accuracy: 100.00\n",
            "[1090/1500]. Loss: 0.0026. Accuracy: 100.00\n",
            "[1095/1500]. Loss: 0.0025. Accuracy: 100.00\n",
            "[1100/1500]. Loss: 0.0025. Accuracy: 100.00\n",
            "[1105/1500]. Loss: 0.0025. Accuracy: 100.00\n",
            "[1110/1500]. Loss: 0.0024. Accuracy: 100.00\n",
            "[1115/1500]. Loss: 0.0024. Accuracy: 100.00\n",
            "[1120/1500]. Loss: 0.0024. Accuracy: 100.00\n",
            "[1125/1500]. Loss: 0.0023. Accuracy: 100.00\n",
            "[1130/1500]. Loss: 0.0023. Accuracy: 100.00\n",
            "[1135/1500]. Loss: 0.0023. Accuracy: 100.00\n",
            "[1140/1500]. Loss: 0.0023. Accuracy: 100.00\n",
            "[1145/1500]. Loss: 0.0022. Accuracy: 100.00\n",
            "[1150/1500]. Loss: 0.0022. Accuracy: 100.00\n",
            "[1155/1500]. Loss: 0.0022. Accuracy: 100.00\n",
            "[1160/1500]. Loss: 0.0022. Accuracy: 100.00\n",
            "[1165/1500]. Loss: 0.0021. Accuracy: 100.00\n",
            "[1170/1500]. Loss: 0.0021. Accuracy: 100.00\n",
            "[1175/1500]. Loss: 0.0021. Accuracy: 100.00\n",
            "[1180/1500]. Loss: 0.0021. Accuracy: 100.00\n",
            "[1185/1500]. Loss: 0.0020. Accuracy: 100.00\n",
            "[1190/1500]. Loss: 0.0020. Accuracy: 100.00\n",
            "[1195/1500]. Loss: 0.0020. Accuracy: 100.00\n",
            "[1200/1500]. Loss: 0.0020. Accuracy: 100.00\n",
            "[1205/1500]. Loss: 0.0020. Accuracy: 100.00\n",
            "[1210/1500]. Loss: 0.0019. Accuracy: 100.00\n",
            "[1215/1500]. Loss: 0.0019. Accuracy: 100.00\n",
            "[1220/1500]. Loss: 0.0019. Accuracy: 100.00\n",
            "[1225/1500]. Loss: 0.0019. Accuracy: 100.00\n",
            "[1230/1500]. Loss: 0.0019. Accuracy: 100.00\n",
            "[1235/1500]. Loss: 0.0018. Accuracy: 100.00\n",
            "[1240/1500]. Loss: 0.0018. Accuracy: 100.00\n",
            "[1245/1500]. Loss: 0.0018. Accuracy: 100.00\n",
            "[1250/1500]. Loss: 0.0018. Accuracy: 100.00\n",
            "[1255/1500]. Loss: 0.0018. Accuracy: 100.00\n",
            "[1260/1500]. Loss: 0.0018. Accuracy: 100.00\n",
            "[1265/1500]. Loss: 0.0017. Accuracy: 100.00\n",
            "[1270/1500]. Loss: 0.0017. Accuracy: 100.00\n",
            "[1275/1500]. Loss: 0.0017. Accuracy: 100.00\n",
            "[1280/1500]. Loss: 0.0017. Accuracy: 100.00\n",
            "[1285/1500]. Loss: 0.0017. Accuracy: 100.00\n",
            "[1290/1500]. Loss: 0.0017. Accuracy: 100.00\n",
            "[1295/1500]. Loss: 0.0016. Accuracy: 100.00\n",
            "[1300/1500]. Loss: 0.0016. Accuracy: 100.00\n",
            "[1305/1500]. Loss: 0.0016. Accuracy: 100.00\n",
            "[1310/1500]. Loss: 0.0016. Accuracy: 100.00\n",
            "[1315/1500]. Loss: 0.0016. Accuracy: 100.00\n",
            "[1320/1500]. Loss: 0.0016. Accuracy: 100.00\n",
            "[1325/1500]. Loss: 0.0016. Accuracy: 100.00\n",
            "[1330/1500]. Loss: 0.0015. Accuracy: 100.00\n",
            "[1335/1500]. Loss: 0.0015. Accuracy: 100.00\n",
            "[1340/1500]. Loss: 0.0015. Accuracy: 100.00\n",
            "[1345/1500]. Loss: 0.0015. Accuracy: 100.00\n",
            "[1350/1500]. Loss: 0.0015. Accuracy: 100.00\n",
            "[1355/1500]. Loss: 0.0015. Accuracy: 100.00\n",
            "[1360/1500]. Loss: 0.0015. Accuracy: 100.00\n",
            "[1365/1500]. Loss: 0.0015. Accuracy: 100.00\n",
            "[1370/1500]. Loss: 0.0015. Accuracy: 100.00\n",
            "[1375/1500]. Loss: 0.0014. Accuracy: 100.00\n",
            "[1380/1500]. Loss: 0.0014. Accuracy: 100.00\n",
            "[1385/1500]. Loss: 0.0014. Accuracy: 100.00\n",
            "[1390/1500]. Loss: 0.0014. Accuracy: 100.00\n",
            "[1395/1500]. Loss: 0.0014. Accuracy: 100.00\n",
            "[1400/1500]. Loss: 0.0014. Accuracy: 100.00\n",
            "[1405/1500]. Loss: 0.0014. Accuracy: 100.00\n",
            "[1410/1500]. Loss: 0.0014. Accuracy: 100.00\n",
            "[1415/1500]. Loss: 0.0014. Accuracy: 100.00\n",
            "[1420/1500]. Loss: 0.0013. Accuracy: 100.00\n",
            "[1425/1500]. Loss: 0.0013. Accuracy: 100.00\n",
            "[1430/1500]. Loss: 0.0013. Accuracy: 100.00\n",
            "[1435/1500]. Loss: 0.0013. Accuracy: 100.00\n",
            "[1440/1500]. Loss: 0.0013. Accuracy: 100.00\n",
            "[1445/1500]. Loss: 0.0013. Accuracy: 100.00\n",
            "[1450/1500]. Loss: 0.0013. Accuracy: 100.00\n",
            "[1455/1500]. Loss: 0.0013. Accuracy: 100.00\n",
            "[1460/1500]. Loss: 0.0013. Accuracy: 100.00\n",
            "[1465/1500]. Loss: 0.0013. Accuracy: 100.00\n",
            "[1470/1500]. Loss: 0.0013. Accuracy: 100.00\n",
            "[1475/1500]. Loss: 0.0012. Accuracy: 100.00\n",
            "[1480/1500]. Loss: 0.0012. Accuracy: 100.00\n",
            "[1485/1500]. Loss: 0.0012. Accuracy: 100.00\n",
            "[1490/1500]. Loss: 0.0012. Accuracy: 100.00\n",
            "[1495/1500]. Loss: 0.0012. Accuracy: 100.00\n",
            "[1500/1500]. Loss: 0.0012. Accuracy: 100.00\n",
            "Final Accuracy: 100.00\n"
          ]
        },
        {
          "output_type": "display_data",
          "data": {
            "text/plain": [
              "<Figure size 640x480 with 1 Axes>"
            ],
            "image/png": "[encoded data removed]"
          },
          "metadata": {}
        }
      ]
    },
    {
      "cell_type": "markdown",
      "source": [
        "**Question 1c: OR Operator**"
      ],
      "metadata": {
        "id": "FQw_5ZjOv06B"
      }
    },
    {
      "cell_type": "code",
      "source": [
        "model = BinaryNetwork( hidden_dims= [4,4])\n",
        "model.train()\n",
        "print(model)\n",
        "operator = \"OR\" \n",
        "inputs, labels = generate_data(operator = operator)\n",
        "n_iters = 800\n",
        "learning_rate = 0.1\n",
        "bce_loss_fn = nn.BCELoss()\n",
        "optim = torch.optim.SGD(params = model.parameters(), lr = learning_rate, momentum=0.9)\n",
        "threshold = 0.5\n",
        "losses = []\n",
        "for i in range(1, n_iters + 1):\n",
        "  outputs = model(inputs)\n",
        "  outputs = outputs.reshape(-1)\n",
        "  \n",
        "  loss = bce_loss_fn(outputs, labels)\n",
        "  losses.append(loss)\n",
        "  predictions = (outputs > threshold).long()\n",
        "  \n",
        "  accuracy = (predictions == labels).float().mean() * 100.\n",
        "\n",
        "  optim.zero_grad()\n",
        "  loss.backward()\n",
        "  optim.step()\n",
        "\n",
        "  loss = loss.item() # Convert to Python Scalar\n",
        "  accuracy = accuracy.item() # Convert to Python Scalar\n",
        "\n",
        "  if i % 5 == 0:\n",
        "    print(\"[%d/%d]. Loss: %0.4f. Accuracy: %0.2f\" % (i, n_iters, loss, accuracy))\n",
        "\n",
        "model.eval()\n",
        "outputs = model(inputs)\n",
        "outputs = outputs.reshape(-1)\n",
        "predictions = (outputs > threshold).long()  \n",
        "accuracy = (predictions == labels).float().mean() * 100.\n",
        "accuracy = accuracy.item()\n",
        "#losses = losses.detach().numpy()\n",
        "with torch.no_grad():\n",
        "  plt.title(operator+\" Training Loss\")\n",
        "  plt.xlabel(\"Iterations\")\n",
        "  plt.ylabel(\"Loss\")\n",
        "  plt.plot(losses)\n",
        "print(\"Final Accuracy: %0.2f\" % (accuracy))\n",
        "\n",
        "torch.save(model.state_dict(), \"%s_Network.pth\" % operator)\n",
        "  # model.load_state_dict(torch.load(\"%s_Network.pth\" % operator)) # Load model in the next time you use"
      ],
      "metadata": {
        "colab": {
          "base_uri": "https://localhost:8080/",
          "height": 1000
        },
        "id": "vtDEg_Uhv1mj",
        "outputId": "c5941fda-8890-4568-a3c8-97ac9911037b"
      },
      "execution_count": 5,
      "outputs": [
        {
          "output_type": "stream",
          "name": "stdout",
          "text": [
            "BinaryNetwork(\n",
            "  (layers): ModuleList(\n",
            "    (0): Linear(in_features=2, out_features=4, bias=True)\n",
            "    (1): Sigmoid()\n",
            "    (2): Linear(in_features=4, out_features=4, bias=True)\n",
            "    (3): Sigmoid()\n",
            "    (4): Linear(in_features=4, out_features=1, bias=True)\n",
            "    (5): Sigmoid()\n",
            "  )\n",
            ")\n",
            "[5/800]. Loss: 0.6292. Accuracy: 75.00\n",
            "[10/800]. Loss: 0.5680. Accuracy: 75.00\n",
            "[15/800]. Loss: 0.6025. Accuracy: 75.00\n",
            "[20/800]. Loss: 0.5818. Accuracy: 75.00\n",
            "[25/800]. Loss: 0.5615. Accuracy: 75.00\n",
            "[30/800]. Loss: 0.5671. Accuracy: 75.00\n",
            "[35/800]. Loss: 0.5653. Accuracy: 75.00\n",
            "[40/800]. Loss: 0.5602. Accuracy: 75.00\n",
            "[45/800]. Loss: 0.5605. Accuracy: 75.00\n",
            "[50/800]. Loss: 0.5601. Accuracy: 75.00\n",
            "[55/800]. Loss: 0.5586. Accuracy: 75.00\n",
            "[60/800]. Loss: 0.5580. Accuracy: 75.00\n",
            "[65/800]. Loss: 0.5575. Accuracy: 75.00\n",
            "[70/800]. Loss: 0.5567. Accuracy: 75.00\n",
            "[75/800]. Loss: 0.5559. Accuracy: 75.00\n",
            "[80/800]. Loss: 0.5552. Accuracy: 75.00\n",
            "[85/800]. Loss: 0.5543. Accuracy: 75.00\n",
            "[90/800]. Loss: 0.5533. Accuracy: 75.00\n",
            "[95/800]. Loss: 0.5523. Accuracy: 75.00\n",
            "[100/800]. Loss: 0.5511. Accuracy: 75.00\n",
            "[105/800]. Loss: 0.5498. Accuracy: 75.00\n",
            "[110/800]. Loss: 0.5483. Accuracy: 75.00\n",
            "[115/800]. Loss: 0.5466. Accuracy: 75.00\n",
            "[120/800]. Loss: 0.5446. Accuracy: 75.00\n",
            "[125/800]. Loss: 0.5424. Accuracy: 75.00\n",
            "[130/800]. Loss: 0.5398. Accuracy: 75.00\n",
            "[135/800]. Loss: 0.5369. Accuracy: 75.00\n",
            "[140/800]. Loss: 0.5335. Accuracy: 75.00\n",
            "[145/800]. Loss: 0.5295. Accuracy: 75.00\n",
            "[150/800]. Loss: 0.5249. Accuracy: 75.00\n",
            "[155/800]. Loss: 0.5195. Accuracy: 75.00\n",
            "[160/800]. Loss: 0.5131. Accuracy: 75.00\n",
            "[165/800]. Loss: 0.5056. Accuracy: 75.00\n",
            "[170/800]. Loss: 0.4967. Accuracy: 75.00\n",
            "[175/800]. Loss: 0.4862. Accuracy: 75.00\n",
            "[180/800]. Loss: 0.4739. Accuracy: 75.00\n",
            "[185/800]. Loss: 0.4595. Accuracy: 75.00\n",
            "[190/800]. Loss: 0.4426. Accuracy: 75.00\n",
            "[195/800]. Loss: 0.4232. Accuracy: 75.00\n",
            "[200/800]. Loss: 0.4012. Accuracy: 75.00\n",
            "[205/800]. Loss: 0.3765. Accuracy: 75.00\n",
            "[210/800]. Loss: 0.3494. Accuracy: 75.00\n",
            "[215/800]. Loss: 0.3203. Accuracy: 75.00\n",
            "[220/800]. Loss: 0.2901. Accuracy: 75.00\n",
            "[225/800]. Loss: 0.2595. Accuracy: 100.00\n",
            "[230/800]. Loss: 0.2295. Accuracy: 100.00\n",
            "[235/800]. Loss: 0.2010. Accuracy: 100.00\n",
            "[240/800]. Loss: 0.1748. Accuracy: 100.00\n",
            "[245/800]. Loss: 0.1514. Accuracy: 100.00\n",
            "[250/800]. Loss: 0.1311. Accuracy: 100.00\n",
            "[255/800]. Loss: 0.1137. Accuracy: 100.00\n",
            "[260/800]. Loss: 0.0990. Accuracy: 100.00\n",
            "[265/800]. Loss: 0.0868. Accuracy: 100.00\n",
            "[270/800]. Loss: 0.0766. Accuracy: 100.00\n",
            "[275/800]. Loss: 0.0681. Accuracy: 100.00\n",
            "[280/800]. Loss: 0.0610. Accuracy: 100.00\n",
            "[285/800]. Loss: 0.0550. Accuracy: 100.00\n",
            "[290/800]. Loss: 0.0500. Accuracy: 100.00\n",
            "[295/800]. Loss: 0.0457. Accuracy: 100.00\n",
            "[300/800]. Loss: 0.0421. Accuracy: 100.00\n",
            "[305/800]. Loss: 0.0389. Accuracy: 100.00\n",
            "[310/800]. Loss: 0.0362. Accuracy: 100.00\n",
            "[315/800]. Loss: 0.0337. Accuracy: 100.00\n",
            "[320/800]. Loss: 0.0316. Accuracy: 100.00\n",
            "[325/800]. Loss: 0.0297. Accuracy: 100.00\n",
            "[330/800]. Loss: 0.0280. Accuracy: 100.00\n",
            "[335/800]. Loss: 0.0265. Accuracy: 100.00\n",
            "[340/800]. Loss: 0.0252. Accuracy: 100.00\n",
            "[345/800]. Loss: 0.0239. Accuracy: 100.00\n",
            "[350/800]. Loss: 0.0228. Accuracy: 100.00\n",
            "[355/800]. Loss: 0.0217. Accuracy: 100.00\n",
            "[360/800]. Loss: 0.0208. Accuracy: 100.00\n",
            "[365/800]. Loss: 0.0199. Accuracy: 100.00\n",
            "[370/800]. Loss: 0.0191. Accuracy: 100.00\n",
            "[375/800]. Loss: 0.0184. Accuracy: 100.00\n",
            "[380/800]. Loss: 0.0177. Accuracy: 100.00\n",
            "[385/800]. Loss: 0.0171. Accuracy: 100.00\n",
            "[390/800]. Loss: 0.0165. Accuracy: 100.00\n",
            "[395/800]. Loss: 0.0159. Accuracy: 100.00\n",
            "[400/800]. Loss: 0.0154. Accuracy: 100.00\n",
            "[405/800]. Loss: 0.0149. Accuracy: 100.00\n",
            "[410/800]. Loss: 0.0144. Accuracy: 100.00\n",
            "[415/800]. Loss: 0.0140. Accuracy: 100.00\n",
            "[420/800]. Loss: 0.0136. Accuracy: 100.00\n",
            "[425/800]. Loss: 0.0132. Accuracy: 100.00\n",
            "[430/800]. Loss: 0.0128. Accuracy: 100.00\n",
            "[435/800]. Loss: 0.0125. Accuracy: 100.00\n",
            "[440/800]. Loss: 0.0121. Accuracy: 100.00\n",
            "[445/800]. Loss: 0.0118. Accuracy: 100.00\n",
            "[450/800]. Loss: 0.0115. Accuracy: 100.00\n",
            "[455/800]. Loss: 0.0112. Accuracy: 100.00\n",
            "[460/800]. Loss: 0.0110. Accuracy: 100.00\n",
            "[465/800]. Loss: 0.0107. Accuracy: 100.00\n",
            "[470/800]. Loss: 0.0105. Accuracy: 100.00\n",
            "[475/800]. Loss: 0.0102. Accuracy: 100.00\n",
            "[480/800]. Loss: 0.0100. Accuracy: 100.00\n",
            "[485/800]. Loss: 0.0098. Accuracy: 100.00\n",
            "[490/800]. Loss: 0.0096. Accuracy: 100.00\n",
            "[495/800]. Loss: 0.0094. Accuracy: 100.00\n",
            "[500/800]. Loss: 0.0092. Accuracy: 100.00\n",
            "[505/800]. Loss: 0.0090. Accuracy: 100.00\n",
            "[510/800]. Loss: 0.0088. Accuracy: 100.00\n",
            "[515/800]. Loss: 0.0086. Accuracy: 100.00\n",
            "[520/800]. Loss: 0.0085. Accuracy: 100.00\n",
            "[525/800]. Loss: 0.0083. Accuracy: 100.00\n",
            "[530/800]. Loss: 0.0082. Accuracy: 100.00\n",
            "[535/800]. Loss: 0.0080. Accuracy: 100.00\n",
            "[540/800]. Loss: 0.0079. Accuracy: 100.00\n",
            "[545/800]. Loss: 0.0077. Accuracy: 100.00\n",
            "[550/800]. Loss: 0.0076. Accuracy: 100.00\n",
            "[555/800]. Loss: 0.0075. Accuracy: 100.00\n",
            "[560/800]. Loss: 0.0073. Accuracy: 100.00\n",
            "[565/800]. Loss: 0.0072. Accuracy: 100.00\n",
            "[570/800]. Loss: 0.0071. Accuracy: 100.00\n",
            "[575/800]. Loss: 0.0070. Accuracy: 100.00\n",
            "[580/800]. Loss: 0.0069. Accuracy: 100.00\n",
            "[585/800]. Loss: 0.0068. Accuracy: 100.00\n",
            "[590/800]. Loss: 0.0067. Accuracy: 100.00\n",
            "[595/800]. Loss: 0.0066. Accuracy: 100.00\n",
            "[600/800]. Loss: 0.0065. Accuracy: 100.00\n",
            "[605/800]. Loss: 0.0064. Accuracy: 100.00\n",
            "[610/800]. Loss: 0.0063. Accuracy: 100.00\n",
            "[615/800]. Loss: 0.0062. Accuracy: 100.00\n",
            "[620/800]. Loss: 0.0061. Accuracy: 100.00\n",
            "[625/800]. Loss: 0.0060. Accuracy: 100.00\n",
            "[630/800]. Loss: 0.0060. Accuracy: 100.00\n",
            "[635/800]. Loss: 0.0059. Accuracy: 100.00\n",
            "[640/800]. Loss: 0.0058. Accuracy: 100.00\n",
            "[645/800]. Loss: 0.0057. Accuracy: 100.00\n",
            "[650/800]. Loss: 0.0056. Accuracy: 100.00\n",
            "[655/800]. Loss: 0.0056. Accuracy: 100.00\n",
            "[660/800]. Loss: 0.0055. Accuracy: 100.00\n",
            "[665/800]. Loss: 0.0054. Accuracy: 100.00\n",
            "[670/800]. Loss: 0.0054. Accuracy: 100.00\n",
            "[675/800]. Loss: 0.0053. Accuracy: 100.00\n",
            "[680/800]. Loss: 0.0052. Accuracy: 100.00\n",
            "[685/800]. Loss: 0.0052. Accuracy: 100.00\n",
            "[690/800]. Loss: 0.0051. Accuracy: 100.00\n",
            "[695/800]. Loss: 0.0051. Accuracy: 100.00\n",
            "[700/800]. Loss: 0.0050. Accuracy: 100.00\n",
            "[705/800]. Loss: 0.0049. Accuracy: 100.00\n",
            "[710/800]. Loss: 0.0049. Accuracy: 100.00\n",
            "[715/800]. Loss: 0.0048. Accuracy: 100.00\n",
            "[720/800]. Loss: 0.0048. Accuracy: 100.00\n",
            "[725/800]. Loss: 0.0047. Accuracy: 100.00\n",
            "[730/800]. Loss: 0.0047. Accuracy: 100.00\n",
            "[735/800]. Loss: 0.0046. Accuracy: 100.00\n",
            "[740/800]. Loss: 0.0046. Accuracy: 100.00\n",
            "[745/800]. Loss: 0.0045. Accuracy: 100.00\n",
            "[750/800]. Loss: 0.0045. Accuracy: 100.00\n",
            "[755/800]. Loss: 0.0044. Accuracy: 100.00\n",
            "[760/800]. Loss: 0.0044. Accuracy: 100.00\n",
            "[765/800]. Loss: 0.0043. Accuracy: 100.00\n",
            "[770/800]. Loss: 0.0043. Accuracy: 100.00\n",
            "[775/800]. Loss: 0.0043. Accuracy: 100.00\n",
            "[780/800]. Loss: 0.0042. Accuracy: 100.00\n",
            "[785/800]. Loss: 0.0042. Accuracy: 100.00\n",
            "[790/800]. Loss: 0.0041. Accuracy: 100.00\n",
            "[795/800]. Loss: 0.0041. Accuracy: 100.00\n",
            "[800/800]. Loss: 0.0041. Accuracy: 100.00\n",
            "Final Accuracy: 100.00\n"
          ]
        },
        {
          "output_type": "display_data",
          "data": {
            "text/plain": [
              "<Figure size 640x480 with 1 Axes>"
            ],
            "image/png": "[encoded data removed]"
          },
          "metadata": {}
        }
      ]
    },
    {
      "cell_type": "markdown",
      "source": [
        "**Question 1d: XOR Operator**\n",
        "> Indented block\n",
        "\n"
      ],
      "metadata": {
        "id": "EvAEuaHvxU2y"
      }
    },
    {
      "cell_type": "code",
      "source": [
        "model = BinaryNetwork( hidden_dims= [5])\n",
        "model.train()\n",
        "print(model)\n",
        "operator = \"XOR\" \n",
        "inputs, labels = generate_data(operator = operator)\n",
        "n_iters = 1500\n",
        "learning_rate = 0.1\n",
        "bce_loss_fn = nn.BCELoss()\n",
        "optim = torch.optim.SGD(params = model.parameters(), lr = learning_rate, momentum=0.9)\n",
        "threshold = 0.5\n",
        "losses = []\n",
        "for i in range(1, n_iters + 1):\n",
        "  outputs = model(inputs)\n",
        "  outputs = outputs.reshape(-1)\n",
        "  \n",
        "  loss = bce_loss_fn(outputs, labels)\n",
        "  losses.append(loss)\n",
        "  predictions = (outputs > threshold).long()\n",
        "  \n",
        "  accuracy = (predictions == labels).float().mean() * 100.\n",
        "\n",
        "  optim.zero_grad()\n",
        "  loss.backward()\n",
        "  optim.step()\n",
        "\n",
        "  loss = loss.item() # Convert to Python Scalar\n",
        "  accuracy = accuracy.item() # Convert to Python Scalar\n",
        "\n",
        "  if i % 5 == 0:\n",
        "    print(\"[%d/%d]. Loss: %0.4f. Accuracy: %0.2f\" % (i, n_iters, loss, accuracy))\n",
        "\n",
        "model.eval()\n",
        "outputs = model(inputs)\n",
        "outputs = outputs.reshape(-1)\n",
        "predictions = (outputs > threshold).long()  \n",
        "accuracy = (predictions == labels).float().mean() * 100.\n",
        "accuracy = accuracy.item()\n",
        "#losses = losses.detach().numpy()\n",
        "with torch.no_grad():\n",
        "  plt.title(operator+\" Training Loss\")\n",
        "  plt.xlabel(\"Iterations\")\n",
        "  plt.ylabel(\"Loss\")\n",
        "  plt.plot(losses)\n",
        "print(\"Final Accuracy: %0.2f\" % (accuracy))\n",
        "\n",
        "torch.save(model.state_dict(), \"%s_Network.pth\" % operator)\n",
        "  # model.load_state_dict(torch.load(\"%s_Network.pth\" % operator)) # Load model in the next time you use"
      ],
      "metadata": {
        "colab": {
          "base_uri": "https://localhost:8080/",
          "height": 1000
        },
        "id": "KBByCXDexnFd",
        "outputId": "c7812d87-37a2-470a-b575-69488607673b"
      },
      "execution_count": 6,
      "outputs": [
        {
          "output_type": "stream",
          "name": "stdout",
          "text": [
            "BinaryNetwork(\n",
            "  (layers): ModuleList(\n",
            "    (0): Linear(in_features=2, out_features=5, bias=True)\n",
            "    (1): Sigmoid()\n",
            "    (2): Linear(in_features=5, out_features=1, bias=True)\n",
            "    (3): Sigmoid()\n",
            "  )\n",
            ")\n",
            "[5/1500]. Loss: 0.6941. Accuracy: 50.00\n",
            "[10/1500]. Loss: 0.6940. Accuracy: 50.00\n",
            "[15/1500]. Loss: 0.6939. Accuracy: 25.00\n",
            "[20/1500]. Loss: 0.6938. Accuracy: 50.00\n",
            "[25/1500]. Loss: 0.6937. Accuracy: 50.00\n",
            "[30/1500]. Loss: 0.6936. Accuracy: 50.00\n",
            "[35/1500]. Loss: 0.6935. Accuracy: 50.00\n",
            "[40/1500]. Loss: 0.6934. Accuracy: 50.00\n",
            "[45/1500]. Loss: 0.6934. Accuracy: 50.00\n",
            "[50/1500]. Loss: 0.6933. Accuracy: 50.00\n",
            "[55/1500]. Loss: 0.6932. Accuracy: 75.00\n",
            "[60/1500]. Loss: 0.6932. Accuracy: 75.00\n",
            "[65/1500]. Loss: 0.6931. Accuracy: 50.00\n",
            "[70/1500]. Loss: 0.6931. Accuracy: 50.00\n",
            "[75/1500]. Loss: 0.6930. Accuracy: 50.00\n",
            "[80/1500]. Loss: 0.6930. Accuracy: 50.00\n",
            "[85/1500]. Loss: 0.6929. Accuracy: 50.00\n",
            "[90/1500]. Loss: 0.6929. Accuracy: 50.00\n",
            "[95/1500]. Loss: 0.6929. Accuracy: 50.00\n",
            "[100/1500]. Loss: 0.6928. Accuracy: 50.00\n",
            "[105/1500]. Loss: 0.6928. Accuracy: 50.00\n",
            "[110/1500]. Loss: 0.6927. Accuracy: 50.00\n",
            "[115/1500]. Loss: 0.6927. Accuracy: 50.00\n",
            "[120/1500]. Loss: 0.6927. Accuracy: 50.00\n",
            "[125/1500]. Loss: 0.6926. Accuracy: 50.00\n",
            "[130/1500]. Loss: 0.6926. Accuracy: 50.00\n",
            "[135/1500]. Loss: 0.6925. Accuracy: 50.00\n",
            "[140/1500]. Loss: 0.6925. Accuracy: 50.00\n",
            "[145/1500]. Loss: 0.6924. Accuracy: 50.00\n",
            "[150/1500]. Loss: 0.6924. Accuracy: 50.00\n",
            "[155/1500]. Loss: 0.6923. Accuracy: 50.00\n",
            "[160/1500]. Loss: 0.6923. Accuracy: 50.00\n",
            "[165/1500]. Loss: 0.6922. Accuracy: 50.00\n",
            "[170/1500]. Loss: 0.6922. Accuracy: 50.00\n",
            "[175/1500]. Loss: 0.6921. Accuracy: 50.00\n",
            "[180/1500]. Loss: 0.6920. Accuracy: 50.00\n",
            "[185/1500]. Loss: 0.6920. Accuracy: 50.00\n",
            "[190/1500]. Loss: 0.6919. Accuracy: 50.00\n",
            "[195/1500]. Loss: 0.6918. Accuracy: 50.00\n",
            "[200/1500]. Loss: 0.6917. Accuracy: 50.00\n",
            "[205/1500]. Loss: 0.6916. Accuracy: 50.00\n",
            "[210/1500]. Loss: 0.6915. Accuracy: 50.00\n",
            "[215/1500]. Loss: 0.6914. Accuracy: 50.00\n",
            "[220/1500]. Loss: 0.6913. Accuracy: 50.00\n",
            "[225/1500]. Loss: 0.6912. Accuracy: 50.00\n",
            "[230/1500]. Loss: 0.6911. Accuracy: 50.00\n",
            "[235/1500]. Loss: 0.6909. Accuracy: 50.00\n",
            "[240/1500]. Loss: 0.6907. Accuracy: 50.00\n",
            "[245/1500]. Loss: 0.6906. Accuracy: 50.00\n",
            "[250/1500]. Loss: 0.6904. Accuracy: 50.00\n",
            "[255/1500]. Loss: 0.6902. Accuracy: 50.00\n",
            "[260/1500]. Loss: 0.6899. Accuracy: 50.00\n",
            "[265/1500]. Loss: 0.6897. Accuracy: 50.00\n",
            "[270/1500]. Loss: 0.6894. Accuracy: 50.00\n",
            "[275/1500]. Loss: 0.6891. Accuracy: 50.00\n",
            "[280/1500]. Loss: 0.6887. Accuracy: 50.00\n",
            "[285/1500]. Loss: 0.6883. Accuracy: 50.00\n",
            "[290/1500]. Loss: 0.6879. Accuracy: 50.00\n",
            "[295/1500]. Loss: 0.6874. Accuracy: 50.00\n",
            "[300/1500]. Loss: 0.6869. Accuracy: 50.00\n",
            "[305/1500]. Loss: 0.6862. Accuracy: 50.00\n",
            "[310/1500]. Loss: 0.6856. Accuracy: 50.00\n",
            "[315/1500]. Loss: 0.6848. Accuracy: 50.00\n",
            "[320/1500]. Loss: 0.6840. Accuracy: 50.00\n",
            "[325/1500]. Loss: 0.6830. Accuracy: 50.00\n",
            "[330/1500]. Loss: 0.6820. Accuracy: 50.00\n",
            "[335/1500]. Loss: 0.6808. Accuracy: 50.00\n",
            "[340/1500]. Loss: 0.6794. Accuracy: 50.00\n",
            "[345/1500]. Loss: 0.6779. Accuracy: 50.00\n",
            "[350/1500]. Loss: 0.6763. Accuracy: 50.00\n",
            "[355/1500]. Loss: 0.6744. Accuracy: 50.00\n",
            "[360/1500]. Loss: 0.6723. Accuracy: 50.00\n",
            "[365/1500]. Loss: 0.6700. Accuracy: 50.00\n",
            "[370/1500]. Loss: 0.6674. Accuracy: 50.00\n",
            "[375/1500]. Loss: 0.6645. Accuracy: 50.00\n",
            "[380/1500]. Loss: 0.6613. Accuracy: 50.00\n",
            "[385/1500]. Loss: 0.6578. Accuracy: 50.00\n",
            "[390/1500]. Loss: 0.6539. Accuracy: 50.00\n",
            "[395/1500]. Loss: 0.6496. Accuracy: 50.00\n",
            "[400/1500]. Loss: 0.6448. Accuracy: 50.00\n",
            "[405/1500]. Loss: 0.6396. Accuracy: 50.00\n",
            "[410/1500]. Loss: 0.6339. Accuracy: 50.00\n",
            "[415/1500]. Loss: 0.6277. Accuracy: 50.00\n",
            "[420/1500]. Loss: 0.6209. Accuracy: 50.00\n",
            "[425/1500]. Loss: 0.6136. Accuracy: 50.00\n",
            "[430/1500]. Loss: 0.6057. Accuracy: 50.00\n",
            "[435/1500]. Loss: 0.5973. Accuracy: 50.00\n",
            "[440/1500]. Loss: 0.5883. Accuracy: 50.00\n",
            "[445/1500]. Loss: 0.5787. Accuracy: 50.00\n",
            "[450/1500]. Loss: 0.5687. Accuracy: 50.00\n",
            "[455/1500]. Loss: 0.5582. Accuracy: 50.00\n",
            "[460/1500]. Loss: 0.5473. Accuracy: 50.00\n",
            "[465/1500]. Loss: 0.5360. Accuracy: 50.00\n",
            "[470/1500]. Loss: 0.5244. Accuracy: 50.00\n",
            "[475/1500]. Loss: 0.5125. Accuracy: 50.00\n",
            "[480/1500]. Loss: 0.5002. Accuracy: 50.00\n",
            "[485/1500]. Loss: 0.4878. Accuracy: 75.00\n",
            "[490/1500]. Loss: 0.4750. Accuracy: 75.00\n",
            "[495/1500]. Loss: 0.4619. Accuracy: 75.00\n",
            "[500/1500]. Loss: 0.4484. Accuracy: 75.00\n",
            "[505/1500]. Loss: 0.4345. Accuracy: 100.00\n",
            "[510/1500]. Loss: 0.4202. Accuracy: 100.00\n",
            "[515/1500]. Loss: 0.4054. Accuracy: 100.00\n",
            "[520/1500]. Loss: 0.3902. Accuracy: 100.00\n",
            "[525/1500]. Loss: 0.3745. Accuracy: 100.00\n",
            "[530/1500]. Loss: 0.3584. Accuracy: 100.00\n",
            "[535/1500]. Loss: 0.3419. Accuracy: 100.00\n",
            "[540/1500]. Loss: 0.3253. Accuracy: 100.00\n",
            "[545/1500]. Loss: 0.3086. Accuracy: 100.00\n",
            "[550/1500]. Loss: 0.2921. Accuracy: 100.00\n",
            "[555/1500]. Loss: 0.2758. Accuracy: 100.00\n",
            "[560/1500]. Loss: 0.2600. Accuracy: 100.00\n",
            "[565/1500]. Loss: 0.2448. Accuracy: 100.00\n",
            "[570/1500]. Loss: 0.2302. Accuracy: 100.00\n",
            "[575/1500]. Loss: 0.2164. Accuracy: 100.00\n",
            "[580/1500]. Loss: 0.2033. Accuracy: 100.00\n",
            "[585/1500]. Loss: 0.1911. Accuracy: 100.00\n",
            "[590/1500]. Loss: 0.1798. Accuracy: 100.00\n",
            "[595/1500]. Loss: 0.1692. Accuracy: 100.00\n",
            "[600/1500]. Loss: 0.1595. Accuracy: 100.00\n",
            "[605/1500]. Loss: 0.1504. Accuracy: 100.00\n",
            "[610/1500]. Loss: 0.1421. Accuracy: 100.00\n",
            "[615/1500]. Loss: 0.1344. Accuracy: 100.00\n",
            "[620/1500]. Loss: 0.1273. Accuracy: 100.00\n",
            "[625/1500]. Loss: 0.1208. Accuracy: 100.00\n",
            "[630/1500]. Loss: 0.1148. Accuracy: 100.00\n",
            "[635/1500]. Loss: 0.1092. Accuracy: 100.00\n",
            "[640/1500]. Loss: 0.1041. Accuracy: 100.00\n",
            "[645/1500]. Loss: 0.0993. Accuracy: 100.00\n",
            "[650/1500]. Loss: 0.0949. Accuracy: 100.00\n",
            "[655/1500]. Loss: 0.0908. Accuracy: 100.00\n",
            "[660/1500]. Loss: 0.0870. Accuracy: 100.00\n",
            "[665/1500]. Loss: 0.0835. Accuracy: 100.00\n",
            "[670/1500]. Loss: 0.0802. Accuracy: 100.00\n",
            "[675/1500]. Loss: 0.0772. Accuracy: 100.00\n",
            "[680/1500]. Loss: 0.0743. Accuracy: 100.00\n",
            "[685/1500]. Loss: 0.0716. Accuracy: 100.00\n",
            "[690/1500]. Loss: 0.0691. Accuracy: 100.00\n",
            "[695/1500]. Loss: 0.0668. Accuracy: 100.00\n",
            "[700/1500]. Loss: 0.0646. Accuracy: 100.00\n",
            "[705/1500]. Loss: 0.0625. Accuracy: 100.00\n",
            "[710/1500]. Loss: 0.0605. Accuracy: 100.00\n",
            "[715/1500]. Loss: 0.0587. Accuracy: 100.00\n",
            "[720/1500]. Loss: 0.0569. Accuracy: 100.00\n",
            "[725/1500]. Loss: 0.0553. Accuracy: 100.00\n",
            "[730/1500]. Loss: 0.0537. Accuracy: 100.00\n",
            "[735/1500]. Loss: 0.0522. Accuracy: 100.00\n",
            "[740/1500]. Loss: 0.0508. Accuracy: 100.00\n",
            "[745/1500]. Loss: 0.0494. Accuracy: 100.00\n",
            "[750/1500]. Loss: 0.0482. Accuracy: 100.00\n",
            "[755/1500]. Loss: 0.0470. Accuracy: 100.00\n",
            "[760/1500]. Loss: 0.0458. Accuracy: 100.00\n",
            "[765/1500]. Loss: 0.0447. Accuracy: 100.00\n",
            "[770/1500]. Loss: 0.0436. Accuracy: 100.00\n",
            "[775/1500]. Loss: 0.0426. Accuracy: 100.00\n",
            "[780/1500]. Loss: 0.0416. Accuracy: 100.00\n",
            "[785/1500]. Loss: 0.0407. Accuracy: 100.00\n",
            "[790/1500]. Loss: 0.0398. Accuracy: 100.00\n",
            "[795/1500]. Loss: 0.0390. Accuracy: 100.00\n",
            "[800/1500]. Loss: 0.0382. Accuracy: 100.00\n",
            "[805/1500]. Loss: 0.0374. Accuracy: 100.00\n",
            "[810/1500]. Loss: 0.0366. Accuracy: 100.00\n",
            "[815/1500]. Loss: 0.0359. Accuracy: 100.00\n",
            "[820/1500]. Loss: 0.0352. Accuracy: 100.00\n",
            "[825/1500]. Loss: 0.0345. Accuracy: 100.00\n",
            "[830/1500]. Loss: 0.0339. Accuracy: 100.00\n",
            "[835/1500]. Loss: 0.0332. Accuracy: 100.00\n",
            "[840/1500]. Loss: 0.0326. Accuracy: 100.00\n",
            "[845/1500]. Loss: 0.0320. Accuracy: 100.00\n",
            "[850/1500]. Loss: 0.0315. Accuracy: 100.00\n",
            "[855/1500]. Loss: 0.0309. Accuracy: 100.00\n",
            "[860/1500]. Loss: 0.0304. Accuracy: 100.00\n",
            "[865/1500]. Loss: 0.0299. Accuracy: 100.00\n",
            "[870/1500]. Loss: 0.0294. Accuracy: 100.00\n",
            "[875/1500]. Loss: 0.0289. Accuracy: 100.00\n",
            "[880/1500]. Loss: 0.0285. Accuracy: 100.00\n",
            "[885/1500]. Loss: 0.0280. Accuracy: 100.00\n",
            "[890/1500]. Loss: 0.0276. Accuracy: 100.00\n",
            "[895/1500]. Loss: 0.0271. Accuracy: 100.00\n",
            "[900/1500]. Loss: 0.0267. Accuracy: 100.00\n",
            "[905/1500]. Loss: 0.0263. Accuracy: 100.00\n",
            "[910/1500]. Loss: 0.0260. Accuracy: 100.00\n",
            "[915/1500]. Loss: 0.0256. Accuracy: 100.00\n",
            "[920/1500]. Loss: 0.0252. Accuracy: 100.00\n",
            "[925/1500]. Loss: 0.0249. Accuracy: 100.00\n",
            "[930/1500]. Loss: 0.0245. Accuracy: 100.00\n",
            "[935/1500]. Loss: 0.0242. Accuracy: 100.00\n",
            "[940/1500]. Loss: 0.0238. Accuracy: 100.00\n",
            "[945/1500]. Loss: 0.0235. Accuracy: 100.00\n",
            "[950/1500]. Loss: 0.0232. Accuracy: 100.00\n",
            "[955/1500]. Loss: 0.0229. Accuracy: 100.00\n",
            "[960/1500]. Loss: 0.0226. Accuracy: 100.00\n",
            "[965/1500]. Loss: 0.0223. Accuracy: 100.00\n",
            "[970/1500]. Loss: 0.0220. Accuracy: 100.00\n",
            "[975/1500]. Loss: 0.0218. Accuracy: 100.00\n",
            "[980/1500]. Loss: 0.0215. Accuracy: 100.00\n",
            "[985/1500]. Loss: 0.0212. Accuracy: 100.00\n",
            "[990/1500]. Loss: 0.0210. Accuracy: 100.00\n",
            "[995/1500]. Loss: 0.0207. Accuracy: 100.00\n",
            "[1000/1500]. Loss: 0.0205. Accuracy: 100.00\n",
            "[1005/1500]. Loss: 0.0202. Accuracy: 100.00\n",
            "[1010/1500]. Loss: 0.0200. Accuracy: 100.00\n",
            "[1015/1500]. Loss: 0.0198. Accuracy: 100.00\n",
            "[1020/1500]. Loss: 0.0196. Accuracy: 100.00\n",
            "[1025/1500]. Loss: 0.0193. Accuracy: 100.00\n",
            "[1030/1500]. Loss: 0.0191. Accuracy: 100.00\n",
            "[1035/1500]. Loss: 0.0189. Accuracy: 100.00\n",
            "[1040/1500]. Loss: 0.0187. Accuracy: 100.00\n",
            "[1045/1500]. Loss: 0.0185. Accuracy: 100.00\n",
            "[1050/1500]. Loss: 0.0183. Accuracy: 100.00\n",
            "[1055/1500]. Loss: 0.0181. Accuracy: 100.00\n",
            "[1060/1500]. Loss: 0.0179. Accuracy: 100.00\n",
            "[1065/1500]. Loss: 0.0178. Accuracy: 100.00\n",
            "[1070/1500]. Loss: 0.0176. Accuracy: 100.00\n",
            "[1075/1500]. Loss: 0.0174. Accuracy: 100.00\n",
            "[1080/1500]. Loss: 0.0172. Accuracy: 100.00\n",
            "[1085/1500]. Loss: 0.0171. Accuracy: 100.00\n",
            "[1090/1500]. Loss: 0.0169. Accuracy: 100.00\n",
            "[1095/1500]. Loss: 0.0167. Accuracy: 100.00\n",
            "[1100/1500]. Loss: 0.0166. Accuracy: 100.00\n",
            "[1105/1500]. Loss: 0.0164. Accuracy: 100.00\n",
            "[1110/1500]. Loss: 0.0162. Accuracy: 100.00\n",
            "[1115/1500]. Loss: 0.0161. Accuracy: 100.00\n",
            "[1120/1500]. Loss: 0.0159. Accuracy: 100.00\n",
            "[1125/1500]. Loss: 0.0158. Accuracy: 100.00\n",
            "[1130/1500]. Loss: 0.0157. Accuracy: 100.00\n",
            "[1135/1500]. Loss: 0.0155. Accuracy: 100.00\n",
            "[1140/1500]. Loss: 0.0154. Accuracy: 100.00\n",
            "[1145/1500]. Loss: 0.0152. Accuracy: 100.00\n",
            "[1150/1500]. Loss: 0.0151. Accuracy: 100.00\n",
            "[1155/1500]. Loss: 0.0150. Accuracy: 100.00\n",
            "[1160/1500]. Loss: 0.0148. Accuracy: 100.00\n",
            "[1165/1500]. Loss: 0.0147. Accuracy: 100.00\n",
            "[1170/1500]. Loss: 0.0146. Accuracy: 100.00\n",
            "[1175/1500]. Loss: 0.0145. Accuracy: 100.00\n",
            "[1180/1500]. Loss: 0.0143. Accuracy: 100.00\n",
            "[1185/1500]. Loss: 0.0142. Accuracy: 100.00\n",
            "[1190/1500]. Loss: 0.0141. Accuracy: 100.00\n",
            "[1195/1500]. Loss: 0.0140. Accuracy: 100.00\n",
            "[1200/1500]. Loss: 0.0139. Accuracy: 100.00\n",
            "[1205/1500]. Loss: 0.0138. Accuracy: 100.00\n",
            "[1210/1500]. Loss: 0.0137. Accuracy: 100.00\n",
            "[1215/1500]. Loss: 0.0135. Accuracy: 100.00\n",
            "[1220/1500]. Loss: 0.0134. Accuracy: 100.00\n",
            "[1225/1500]. Loss: 0.0133. Accuracy: 100.00\n",
            "[1230/1500]. Loss: 0.0132. Accuracy: 100.00\n",
            "[1235/1500]. Loss: 0.0131. Accuracy: 100.00\n",
            "[1240/1500]. Loss: 0.0130. Accuracy: 100.00\n",
            "[1245/1500]. Loss: 0.0129. Accuracy: 100.00\n",
            "[1250/1500]. Loss: 0.0128. Accuracy: 100.00\n",
            "[1255/1500]. Loss: 0.0127. Accuracy: 100.00\n",
            "[1260/1500]. Loss: 0.0126. Accuracy: 100.00\n",
            "[1265/1500]. Loss: 0.0126. Accuracy: 100.00\n",
            "[1270/1500]. Loss: 0.0125. Accuracy: 100.00\n",
            "[1275/1500]. Loss: 0.0124. Accuracy: 100.00\n",
            "[1280/1500]. Loss: 0.0123. Accuracy: 100.00\n",
            "[1285/1500]. Loss: 0.0122. Accuracy: 100.00\n",
            "[1290/1500]. Loss: 0.0121. Accuracy: 100.00\n",
            "[1295/1500]. Loss: 0.0120. Accuracy: 100.00\n",
            "[1300/1500]. Loss: 0.0119. Accuracy: 100.00\n",
            "[1305/1500]. Loss: 0.0119. Accuracy: 100.00\n",
            "[1310/1500]. Loss: 0.0118. Accuracy: 100.00\n",
            "[1315/1500]. Loss: 0.0117. Accuracy: 100.00\n",
            "[1320/1500]. Loss: 0.0116. Accuracy: 100.00\n",
            "[1325/1500]. Loss: 0.0115. Accuracy: 100.00\n",
            "[1330/1500]. Loss: 0.0115. Accuracy: 100.00\n",
            "[1335/1500]. Loss: 0.0114. Accuracy: 100.00\n",
            "[1340/1500]. Loss: 0.0113. Accuracy: 100.00\n",
            "[1345/1500]. Loss: 0.0112. Accuracy: 100.00\n",
            "[1350/1500]. Loss: 0.0112. Accuracy: 100.00\n",
            "[1355/1500]. Loss: 0.0111. Accuracy: 100.00\n",
            "[1360/1500]. Loss: 0.0110. Accuracy: 100.00\n",
            "[1365/1500]. Loss: 0.0109. Accuracy: 100.00\n",
            "[1370/1500]. Loss: 0.0109. Accuracy: 100.00\n",
            "[1375/1500]. Loss: 0.0108. Accuracy: 100.00\n",
            "[1380/1500]. Loss: 0.0107. Accuracy: 100.00\n",
            "[1385/1500]. Loss: 0.0107. Accuracy: 100.00\n",
            "[1390/1500]. Loss: 0.0106. Accuracy: 100.00\n",
            "[1395/1500]. Loss: 0.0105. Accuracy: 100.00\n",
            "[1400/1500]. Loss: 0.0105. Accuracy: 100.00\n",
            "[1405/1500]. Loss: 0.0104. Accuracy: 100.00\n",
            "[1410/1500]. Loss: 0.0103. Accuracy: 100.00\n",
            "[1415/1500]. Loss: 0.0103. Accuracy: 100.00\n",
            "[1420/1500]. Loss: 0.0102. Accuracy: 100.00\n",
            "[1425/1500]. Loss: 0.0101. Accuracy: 100.00\n",
            "[1430/1500]. Loss: 0.0101. Accuracy: 100.00\n",
            "[1435/1500]. Loss: 0.0100. Accuracy: 100.00\n",
            "[1440/1500]. Loss: 0.0100. Accuracy: 100.00\n",
            "[1445/1500]. Loss: 0.0099. Accuracy: 100.00\n",
            "[1450/1500]. Loss: 0.0099. Accuracy: 100.00\n",
            "[1455/1500]. Loss: 0.0098. Accuracy: 100.00\n",
            "[1460/1500]. Loss: 0.0097. Accuracy: 100.00\n",
            "[1465/1500]. Loss: 0.0097. Accuracy: 100.00\n",
            "[1470/1500]. Loss: 0.0096. Accuracy: 100.00\n",
            "[1475/1500]. Loss: 0.0096. Accuracy: 100.00\n",
            "[1480/1500]. Loss: 0.0095. Accuracy: 100.00\n",
            "[1485/1500]. Loss: 0.0095. Accuracy: 100.00\n",
            "[1490/1500]. Loss: 0.0094. Accuracy: 100.00\n",
            "[1495/1500]. Loss: 0.0094. Accuracy: 100.00\n",
            "[1500/1500]. Loss: 0.0093. Accuracy: 100.00\n",
            "Final Accuracy: 100.00\n"
          ]
        },
        {
          "output_type": "display_data",
          "data": {
            "text/plain": [
              "<Figure size 640x480 with 1 Axes>"
            ],
            "image/png": "[encoded data removed]"
          },
          "metadata": {}
        }
      ]
    },
    {
      "cell_type": "markdown",
      "source": [
        "**Question 1e: NOR Operator**"
      ],
      "metadata": {
        "id": "pQ5MyUeLzlyo"
      }
    },
    {
      "cell_type": "code",
      "source": [
        "model = BinaryNetwork( hidden_dims= [4,4])\n",
        "model.train()\n",
        "print(model)\n",
        "operator = \"NOR\" \n",
        "inputs, labels = generate_data(operator = operator)\n",
        "n_iters = 800\n",
        "learning_rate = 0.1\n",
        "bce_loss_fn = nn.BCELoss()\n",
        "optim = torch.optim.SGD(params = model.parameters(), lr = learning_rate, momentum=0.9)\n",
        "threshold = 0.5\n",
        "losses = []\n",
        "for i in range(1, n_iters + 1):\n",
        "  outputs = model(inputs)\n",
        "  outputs = outputs.reshape(-1)\n",
        "  \n",
        "  loss = bce_loss_fn(outputs, labels)\n",
        "  losses.append(loss)\n",
        "  predictions = (outputs > threshold).long()\n",
        "  \n",
        "  accuracy = (predictions == labels).float().mean() * 100.\n",
        "\n",
        "  optim.zero_grad()\n",
        "  loss.backward()\n",
        "  optim.step()\n",
        "\n",
        "  loss = loss.item() # Convert to Python Scalar\n",
        "  accuracy = accuracy.item() # Convert to Python Scalar\n",
        "\n",
        "  if i % 5 == 0:\n",
        "    print(\"[%d/%d]. Loss: %0.4f. Accuracy: %0.2f\" % (i, n_iters, loss, accuracy))\n",
        "\n",
        "model.eval()\n",
        "outputs = model(inputs)\n",
        "outputs = outputs.reshape(-1)\n",
        "predictions = (outputs > threshold).long()  \n",
        "accuracy = (predictions == labels).float().mean() * 100.\n",
        "accuracy = accuracy.item()\n",
        "#losses = losses.detach().numpy()\n",
        "with torch.no_grad():\n",
        "  plt.title(operator+\" Training Loss\")\n",
        "  plt.xlabel(\"Iterations\")\n",
        "  plt.ylabel(\"Loss\")\n",
        "  plt.plot(losses)\n",
        "print(\"Final Accuracy: %0.2f\" % (accuracy))\n",
        "\n",
        "torch.save(model.state_dict(), \"%s_Network.pth\" % operator)\n",
        "  # model.load_state_dict(torch.load(\"%s_Network.pth\" % operator)) # Load model in the next time you use"
      ],
      "metadata": {
        "colab": {
          "base_uri": "https://localhost:8080/",
          "height": 1000
        },
        "id": "Z7lJnfXGzmWD",
        "outputId": "e9f2ef9e-bff8-4783-8757-871f5bf58f28"
      },
      "execution_count": 7,
      "outputs": [
        {
          "output_type": "stream",
          "name": "stdout",
          "text": [
            "BinaryNetwork(\n",
            "  (layers): ModuleList(\n",
            "    (0): Linear(in_features=2, out_features=4, bias=True)\n",
            "    (1): Sigmoid()\n",
            "    (2): Linear(in_features=4, out_features=4, bias=True)\n",
            "    (3): Sigmoid()\n",
            "    (4): Linear(in_features=4, out_features=1, bias=True)\n",
            "    (5): Sigmoid()\n",
            "  )\n",
            ")\n",
            "[5/800]. Loss: 0.5725. Accuracy: 75.00\n",
            "[10/800]. Loss: 0.5661. Accuracy: 75.00\n",
            "[15/800]. Loss: 0.5686. Accuracy: 75.00\n",
            "[20/800]. Loss: 0.5668. Accuracy: 75.00\n",
            "[25/800]. Loss: 0.5647. Accuracy: 75.00\n",
            "[30/800]. Loss: 0.5648. Accuracy: 75.00\n",
            "[35/800]. Loss: 0.5643. Accuracy: 75.00\n",
            "[40/800]. Loss: 0.5635. Accuracy: 75.00\n",
            "[45/800]. Loss: 0.5633. Accuracy: 75.00\n",
            "[50/800]. Loss: 0.5630. Accuracy: 75.00\n",
            "[55/800]. Loss: 0.5626. Accuracy: 75.00\n",
            "[60/800]. Loss: 0.5623. Accuracy: 75.00\n",
            "[65/800]. Loss: 0.5621. Accuracy: 75.00\n",
            "[70/800]. Loss: 0.5618. Accuracy: 75.00\n",
            "[75/800]. Loss: 0.5615. Accuracy: 75.00\n",
            "[80/800]. Loss: 0.5612. Accuracy: 75.00\n",
            "[85/800]. Loss: 0.5609. Accuracy: 75.00\n",
            "[90/800]. Loss: 0.5606. Accuracy: 75.00\n",
            "[95/800]. Loss: 0.5603. Accuracy: 75.00\n",
            "[100/800]. Loss: 0.5600. Accuracy: 75.00\n",
            "[105/800]. Loss: 0.5596. Accuracy: 75.00\n",
            "[110/800]. Loss: 0.5592. Accuracy: 75.00\n",
            "[115/800]. Loss: 0.5588. Accuracy: 75.00\n",
            "[120/800]. Loss: 0.5583. Accuracy: 75.00\n",
            "[125/800]. Loss: 0.5578. Accuracy: 75.00\n",
            "[130/800]. Loss: 0.5572. Accuracy: 75.00\n",
            "[135/800]. Loss: 0.5566. Accuracy: 75.00\n",
            "[140/800]. Loss: 0.5558. Accuracy: 75.00\n",
            "[145/800]. Loss: 0.5550. Accuracy: 75.00\n",
            "[150/800]. Loss: 0.5540. Accuracy: 75.00\n",
            "[155/800]. Loss: 0.5528. Accuracy: 75.00\n",
            "[160/800]. Loss: 0.5515. Accuracy: 75.00\n",
            "[165/800]. Loss: 0.5500. Accuracy: 75.00\n",
            "[170/800]. Loss: 0.5482. Accuracy: 75.00\n",
            "[175/800]. Loss: 0.5461. Accuracy: 75.00\n",
            "[180/800]. Loss: 0.5437. Accuracy: 75.00\n",
            "[185/800]. Loss: 0.5408. Accuracy: 75.00\n",
            "[190/800]. Loss: 0.5373. Accuracy: 75.00\n",
            "[195/800]. Loss: 0.5331. Accuracy: 75.00\n",
            "[200/800]. Loss: 0.5281. Accuracy: 75.00\n",
            "[205/800]. Loss: 0.5220. Accuracy: 75.00\n",
            "[210/800]. Loss: 0.5147. Accuracy: 75.00\n",
            "[215/800]. Loss: 0.5058. Accuracy: 75.00\n",
            "[220/800]. Loss: 0.4950. Accuracy: 75.00\n",
            "[225/800]. Loss: 0.4819. Accuracy: 75.00\n",
            "[230/800]. Loss: 0.4661. Accuracy: 75.00\n",
            "[235/800]. Loss: 0.4471. Accuracy: 75.00\n",
            "[240/800]. Loss: 0.4244. Accuracy: 75.00\n",
            "[245/800]. Loss: 0.3978. Accuracy: 75.00\n",
            "[250/800]. Loss: 0.3674. Accuracy: 75.00\n",
            "[255/800]. Loss: 0.3333. Accuracy: 75.00\n",
            "[260/800]. Loss: 0.2965. Accuracy: 75.00\n",
            "[265/800]. Loss: 0.2583. Accuracy: 100.00\n",
            "[270/800]. Loss: 0.2206. Accuracy: 100.00\n",
            "[275/800]. Loss: 0.1850. Accuracy: 100.00\n",
            "[280/800]. Loss: 0.1531. Accuracy: 100.00\n",
            "[285/800]. Loss: 0.1259. Accuracy: 100.00\n",
            "[290/800]. Loss: 0.1034. Accuracy: 100.00\n",
            "[295/800]. Loss: 0.0855. Accuracy: 100.00\n",
            "[300/800]. Loss: 0.0714. Accuracy: 100.00\n",
            "[305/800]. Loss: 0.0603. Accuracy: 100.00\n",
            "[310/800]. Loss: 0.0517. Accuracy: 100.00\n",
            "[315/800]. Loss: 0.0449. Accuracy: 100.00\n",
            "[320/800]. Loss: 0.0395. Accuracy: 100.00\n",
            "[325/800]. Loss: 0.0352. Accuracy: 100.00\n",
            "[330/800]. Loss: 0.0316. Accuracy: 100.00\n",
            "[335/800]. Loss: 0.0287. Accuracy: 100.00\n",
            "[340/800]. Loss: 0.0262. Accuracy: 100.00\n",
            "[345/800]. Loss: 0.0241. Accuracy: 100.00\n",
            "[350/800]. Loss: 0.0224. Accuracy: 100.00\n",
            "[355/800]. Loss: 0.0208. Accuracy: 100.00\n",
            "[360/800]. Loss: 0.0195. Accuracy: 100.00\n",
            "[365/800]. Loss: 0.0183. Accuracy: 100.00\n",
            "[370/800]. Loss: 0.0172. Accuracy: 100.00\n",
            "[375/800]. Loss: 0.0163. Accuracy: 100.00\n",
            "[380/800]. Loss: 0.0154. Accuracy: 100.00\n",
            "[385/800]. Loss: 0.0146. Accuracy: 100.00\n",
            "[390/800]. Loss: 0.0139. Accuracy: 100.00\n",
            "[395/800]. Loss: 0.0133. Accuracy: 100.00\n",
            "[400/800]. Loss: 0.0127. Accuracy: 100.00\n",
            "[405/800]. Loss: 0.0122. Accuracy: 100.00\n",
            "[410/800]. Loss: 0.0117. Accuracy: 100.00\n",
            "[415/800]. Loss: 0.0112. Accuracy: 100.00\n",
            "[420/800]. Loss: 0.0108. Accuracy: 100.00\n",
            "[425/800]. Loss: 0.0104. Accuracy: 100.00\n",
            "[430/800]. Loss: 0.0101. Accuracy: 100.00\n",
            "[435/800]. Loss: 0.0097. Accuracy: 100.00\n",
            "[440/800]. Loss: 0.0094. Accuracy: 100.00\n",
            "[445/800]. Loss: 0.0091. Accuracy: 100.00\n",
            "[450/800]. Loss: 0.0088. Accuracy: 100.00\n",
            "[455/800]. Loss: 0.0085. Accuracy: 100.00\n",
            "[460/800]. Loss: 0.0083. Accuracy: 100.00\n",
            "[465/800]. Loss: 0.0080. Accuracy: 100.00\n",
            "[470/800]. Loss: 0.0078. Accuracy: 100.00\n",
            "[475/800]. Loss: 0.0076. Accuracy: 100.00\n",
            "[480/800]. Loss: 0.0074. Accuracy: 100.00\n",
            "[485/800]. Loss: 0.0072. Accuracy: 100.00\n",
            "[490/800]. Loss: 0.0070. Accuracy: 100.00\n",
            "[495/800]. Loss: 0.0069. Accuracy: 100.00\n",
            "[500/800]. Loss: 0.0067. Accuracy: 100.00\n",
            "[505/800]. Loss: 0.0065. Accuracy: 100.00\n",
            "[510/800]. Loss: 0.0064. Accuracy: 100.00\n",
            "[515/800]. Loss: 0.0062. Accuracy: 100.00\n",
            "[520/800]. Loss: 0.0061. Accuracy: 100.00\n",
            "[525/800]. Loss: 0.0060. Accuracy: 100.00\n",
            "[530/800]. Loss: 0.0058. Accuracy: 100.00\n",
            "[535/800]. Loss: 0.0057. Accuracy: 100.00\n",
            "[540/800]. Loss: 0.0056. Accuracy: 100.00\n",
            "[545/800]. Loss: 0.0055. Accuracy: 100.00\n",
            "[550/800]. Loss: 0.0054. Accuracy: 100.00\n",
            "[555/800]. Loss: 0.0053. Accuracy: 100.00\n",
            "[560/800]. Loss: 0.0052. Accuracy: 100.00\n",
            "[565/800]. Loss: 0.0051. Accuracy: 100.00\n",
            "[570/800]. Loss: 0.0050. Accuracy: 100.00\n",
            "[575/800]. Loss: 0.0049. Accuracy: 100.00\n",
            "[580/800]. Loss: 0.0048. Accuracy: 100.00\n",
            "[585/800]. Loss: 0.0047. Accuracy: 100.00\n",
            "[590/800]. Loss: 0.0046. Accuracy: 100.00\n",
            "[595/800]. Loss: 0.0046. Accuracy: 100.00\n",
            "[600/800]. Loss: 0.0045. Accuracy: 100.00\n",
            "[605/800]. Loss: 0.0044. Accuracy: 100.00\n",
            "[610/800]. Loss: 0.0043. Accuracy: 100.00\n",
            "[615/800]. Loss: 0.0043. Accuracy: 100.00\n",
            "[620/800]. Loss: 0.0042. Accuracy: 100.00\n",
            "[625/800]. Loss: 0.0041. Accuracy: 100.00\n",
            "[630/800]. Loss: 0.0041. Accuracy: 100.00\n",
            "[635/800]. Loss: 0.0040. Accuracy: 100.00\n",
            "[640/800]. Loss: 0.0040. Accuracy: 100.00\n",
            "[645/800]. Loss: 0.0039. Accuracy: 100.00\n",
            "[650/800]. Loss: 0.0038. Accuracy: 100.00\n",
            "[655/800]. Loss: 0.0038. Accuracy: 100.00\n",
            "[660/800]. Loss: 0.0037. Accuracy: 100.00\n",
            "[665/800]. Loss: 0.0037. Accuracy: 100.00\n",
            "[670/800]. Loss: 0.0036. Accuracy: 100.00\n",
            "[675/800]. Loss: 0.0036. Accuracy: 100.00\n",
            "[680/800]. Loss: 0.0035. Accuracy: 100.00\n",
            "[685/800]. Loss: 0.0035. Accuracy: 100.00\n",
            "[690/800]. Loss: 0.0034. Accuracy: 100.00\n",
            "[695/800]. Loss: 0.0034. Accuracy: 100.00\n",
            "[700/800]. Loss: 0.0034. Accuracy: 100.00\n",
            "[705/800]. Loss: 0.0033. Accuracy: 100.00\n",
            "[710/800]. Loss: 0.0033. Accuracy: 100.00\n",
            "[715/800]. Loss: 0.0032. Accuracy: 100.00\n",
            "[720/800]. Loss: 0.0032. Accuracy: 100.00\n",
            "[725/800]. Loss: 0.0032. Accuracy: 100.00\n",
            "[730/800]. Loss: 0.0031. Accuracy: 100.00\n",
            "[735/800]. Loss: 0.0031. Accuracy: 100.00\n",
            "[740/800]. Loss: 0.0030. Accuracy: 100.00\n",
            "[745/800]. Loss: 0.0030. Accuracy: 100.00\n",
            "[750/800]. Loss: 0.0030. Accuracy: 100.00\n",
            "[755/800]. Loss: 0.0029. Accuracy: 100.00\n",
            "[760/800]. Loss: 0.0029. Accuracy: 100.00\n",
            "[765/800]. Loss: 0.0029. Accuracy: 100.00\n",
            "[770/800]. Loss: 0.0028. Accuracy: 100.00\n",
            "[775/800]. Loss: 0.0028. Accuracy: 100.00\n",
            "[780/800]. Loss: 0.0028. Accuracy: 100.00\n",
            "[785/800]. Loss: 0.0028. Accuracy: 100.00\n",
            "[790/800]. Loss: 0.0027. Accuracy: 100.00\n",
            "[795/800]. Loss: 0.0027. Accuracy: 100.00\n",
            "[800/800]. Loss: 0.0027. Accuracy: 100.00\n",
            "Final Accuracy: 100.00\n"
          ]
        },
        {
          "output_type": "display_data",
          "data": {
            "text/plain": [
              "<Figure size 640x480 with 1 Axes>"
            ],
            "image/png": "[encoded data removed]"
          },
          "metadata": {}
        }
      ]
    },
    {
      "cell_type": "markdown",
      "metadata": {
        "id": "IE5YlJ_I3NYg"
      },
      "source": [
        "## Digit Classification\n",
        "\n",
        "### Define Digit Classification Network"
      ]
    },
    {
      "cell_type": "code",
      "execution_count": 8,
      "metadata": {
        "id": "CI2eUjVG0Ssz",
        "vscode": {
          "languageId": "python"
        }
      },
      "outputs": [],
      "source": [
        "class DigitNetwork(nn.Module):\n",
        "  def __init__(self, hidden_dims = [128]):\n",
        "    super(DigitNetwork, self).__init__()\n",
        "    self.network_dims = [28 * 28] + hidden_dims + [10]\n",
        "    self.layers = [] \n",
        "    for i, dim in enumerate(self.network_dims[1:]):\n",
        "      prev_dim = self.network_dims[i]\n",
        "      dense = nn.Linear(in_features = prev_dim, out_features = dim, bias = True)\n",
        "      if i < len(self.network_dims[1:]) - 1:\n",
        "        activation = nn.Sigmoid() # Hidden Layer \n",
        "      else:\n",
        "        activation = nn.Softmax(dim=1) # Last Layer\n",
        "      self.layers += [dense, activation]\n",
        "    self.layers = nn.ModuleList(self.layers)\n",
        "\n",
        "  def forward(self, x):\n",
        "    size = x.size()\n",
        "    x = x.reshape(size[0], -1) # Flatten images\n",
        "    for layer in self.layers[:-1]:\n",
        "      x = layer(x)\n",
        "    if self.training == False:\n",
        "      x = self.layers[-1](x) \n",
        "    return x"
      ]
    },
    {
      "cell_type": "markdown",
      "metadata": {
        "id": "_JTjiev9CK4K"
      },
      "source": [
        "### Define Data Generator"
      ]
    },
    {
      "cell_type": "code",
      "execution_count": 9,
      "metadata": {
        "id": "FUnVAlP85SGs",
        "vscode": {
          "languageId": "python"
        }
      },
      "outputs": [],
      "source": [
        "def create_data_generator(batch_size = 64, root = \"data\"):\n",
        "  train_dataset = torchvision.datasets.MNIST(root = root,\n",
        "                                             train = True,\n",
        "                                             transform = torchvision.transforms.ToTensor(),\n",
        "                                             download = True)\n",
        "  test_dataset = torchvision.datasets.MNIST(root = root,\n",
        "                                             train = False,\n",
        "                                             transform = torchvision.transforms.ToTensor(),\n",
        "                                             download = True)\n",
        "  train_loader = torch.utils.data.DataLoader(train_dataset,\n",
        "                                             batch_size = batch_size,\n",
        "                                             shuffle = True)\n",
        "  test_loader = torch.utils.data.DataLoader(test_dataset,\n",
        "                                             batch_size = batch_size,\n",
        "                                             shuffle = False)\n",
        "  return train_loader, test_loader"
      ]
    },
    {
      "cell_type": "markdown",
      "metadata": {
        "id": "9AZSB2N3CTFd"
      },
      "source": [
        "### Define the training framework"
      ]
    },
    {
      "cell_type": "code",
      "execution_count": 9,
      "metadata": {
        "id": "nDmnwaOT66-S",
        "vscode": {
          "languageId": "python"
        }
      },
      "outputs": [],
      "source": []
    },
    {
      "cell_type": "markdown",
      "source": [
        "**Question 2a**\n",
        "\n",
        "This question has been answered in the report."
      ],
      "metadata": {
        "id": "l7qpxrZk-DqU"
      }
    },
    {
      "cell_type": "markdown",
      "source": [
        "**Question 2b**"
      ],
      "metadata": {
        "id": "vitFrYGLB9lZ"
      }
    },
    {
      "cell_type": "code",
      "source": [
        "cuda = torch.cuda.is_available()\n",
        "batch_size = 64\n",
        "train_loader, test_loader = create_data_generator(batch_size)\n",
        "model = DigitNetwork(hidden_dims=[8])\n",
        "print(model)\n",
        "total_params = sum(\n",
        "\tparam.numel() for param in model.parameters()\n",
        ")\n",
        "\n",
        "print(\"\\n Model parameters: \", total_params)\n",
        "if cuda:\n",
        "  model.cuda()\n",
        "n_epochs = 10\n",
        "learning_rate = 0.1\n",
        "optim = torch.optim.SGD(params = model.parameters(), lr = learning_rate, momentum=0.9)\n",
        "loss_fn = nn.CrossEntropyLoss()\n",
        "\n",
        "model.train()\n",
        "Losses = []\n",
        "Acc_ies = []\n",
        "iter_time = 0\n",
        "train_start = timer()\n",
        "for epoch in range(1, n_epochs + 1):\n",
        "  epoch_loss = 0\n",
        "  epoch_acc = 0\n",
        "  for idx, (images, labels) in enumerate(train_loader):\n",
        "    start_iter = timer()\n",
        "    if cuda:\n",
        "      images = images.cuda()\n",
        "      labels = labels.cuda()\n",
        "      \n",
        "    outputs = model(images)\n",
        "\n",
        "    loss = loss_fn(outputs, labels) \n",
        "\n",
        "    optim.zero_grad()\n",
        "    loss.backward()\n",
        "    optim.step() \n",
        "\n",
        "    predictions = torch.argmax(outputs, 1)\n",
        "    accuracy = (predictions == labels).float().mean() * 100.\n",
        "\n",
        "    loss = loss.item() # Convert to Python Scalar\n",
        "    epoch_loss += loss\n",
        "    accuracy = accuracy.item() # Convert to Python Scalar\n",
        "    epoch_acc += accuracy \n",
        "    \n",
        "    if idx % 100 == 0:\n",
        "      print(\"Epoch [%d/%d]. Iter [%d/%d]. Loss: %0.2f. Accuracy: %0.2f\" % (epoch, n_epochs, idx + 1, len(train_loader), loss, accuracy))\n",
        "    end_iter = timer()\n",
        "    iter_time += (end_iter-start_iter)\n",
        "  Losses.append(epoch_loss/len(train_loader))\n",
        "  print(\"Epoch \", epoch+1, \"Average Epoch_loss: \", epoch_loss/len(train_loader))\n",
        "  Acc_ies.append(epoch_acc/(len(train_loader)*100))\n",
        "  print(\"Epoch \", epoch+1, \"Average Epoch_accuracy: \", epoch_acc/len(train_loader))\n",
        "train_end = timer()\n",
        "print(\"Iteration average time: \", timedelta(seconds = iter_time/(len(train_loader)*n_epochs)))\n",
        "print(\"Training time: \", timedelta(seconds = train_end-train_start))\n",
        "#print(\"Train_loader length: \", len(train_loader))\n",
        "\n",
        "torch.save(model.state_dict(), \"MNIST_Network.pth\")\n",
        "\n",
        "train_final_acc = epoch_acc/(len(train_loader))\n",
        "print(\"Final Accuracy: %0.2f\" % (train_final_acc))\n",
        "\n",
        "plt.plot(Acc_ies, color='r', label='Training accuracy')\n",
        "plt.plot(Losses, color='g', label='Training loss')\n",
        "plt.xlabel(\"Epoch\")\n",
        "plt.title(\"Training Loss and Accuracy\")\n",
        "plt.legend()\n",
        "plt.show()"
      ],
      "metadata": {
        "colab": {
          "base_uri": "https://localhost:8080/",
          "height": 1000
        },
        "id": "ywUBLPov-EVy",
        "outputId": "320df089-19d1-4060-ef37-69b35e81be61"
      },
      "execution_count": 10,
      "outputs": [
        {
          "output_type": "stream",
          "name": "stdout",
          "text": [
            "Downloading http://yann.lecun.com/exdb/mnist/train-images-idx3-ubyte.gz\n",
            "Downloading http://yann.lecun.com/exdb/mnist/train-images-idx3-ubyte.gz to data/MNIST/raw/train-images-idx3-ubyte.gz\n"
          ]
        },
        {
          "output_type": "stream",
          "name": "stderr",
          "text": [
            "100%|██████████| 9912422/9912422 [00:00<00:00, 124695461.09it/s]\n"
          ]
        },
        {
          "output_type": "stream",
          "name": "stdout",
          "text": [
            "Extracting data/MNIST/raw/train-images-idx3-ubyte.gz to data/MNIST/raw\n",
            "\n",
            "Downloading http://yann.lecun.com/exdb/mnist/train-labels-idx1-ubyte.gz\n",
            "Downloading http://yann.lecun.com/exdb/mnist/train-labels-idx1-ubyte.gz to data/MNIST/raw/train-labels-idx1-ubyte.gz\n"
          ]
        },
        {
          "output_type": "stream",
          "name": "stderr",
          "text": [
            "100%|██████████| 28881/28881 [00:00<00:00, 80222313.79it/s]\n"
          ]
        },
        {
          "output_type": "stream",
          "name": "stdout",
          "text": [
            "Extracting data/MNIST/raw/train-labels-idx1-ubyte.gz to data/MNIST/raw\n",
            "\n",
            "Downloading http://yann.lecun.com/exdb/mnist/t10k-images-idx3-ubyte.gz\n",
            "Downloading http://yann.lecun.com/exdb/mnist/t10k-images-idx3-ubyte.gz to data/MNIST/raw/t10k-images-idx3-ubyte.gz\n"
          ]
        },
        {
          "output_type": "stream",
          "name": "stderr",
          "text": [
            "100%|██████████| 1648877/1648877 [00:00<00:00, 40278221.09it/s]"
          ]
        },
        {
          "output_type": "stream",
          "name": "stdout",
          "text": [
            "Extracting data/MNIST/raw/t10k-images-idx3-ubyte.gz to data/MNIST/raw\n"
          ]
        },
        {
          "output_type": "stream",
          "name": "stderr",
          "text": [
            "\n"
          ]
        },
        {
          "output_type": "stream",
          "name": "stdout",
          "text": [
            "\n",
            "Downloading http://yann.lecun.com/exdb/mnist/t10k-labels-idx1-ubyte.gz\n",
            "Downloading http://yann.lecun.com/exdb/mnist/t10k-labels-idx1-ubyte.gz to data/MNIST/raw/t10k-labels-idx1-ubyte.gz\n"
          ]
        },
        {
          "output_type": "stream",
          "name": "stderr",
          "text": [
            "100%|██████████| 4542/4542 [00:00<00:00, 5333294.73it/s]\n"
          ]
        },
        {
          "output_type": "stream",
          "name": "stdout",
          "text": [
            "Extracting data/MNIST/raw/t10k-labels-idx1-ubyte.gz to data/MNIST/raw\n",
            "\n",
            "DigitNetwork(\n",
            "  (layers): ModuleList(\n",
            "    (0): Linear(in_features=784, out_features=8, bias=True)\n",
            "    (1): Sigmoid()\n",
            "    (2): Linear(in_features=8, out_features=10, bias=True)\n",
            "    (3): Softmax(dim=1)\n",
            "  )\n",
            ")\n",
            "\n",
            " Model parameters:  6370\n",
            "Epoch [1/10]. Iter [1/938]. Loss: 2.33. Accuracy: 14.06\n",
            "Epoch [1/10]. Iter [101/938]. Loss: 0.67. Accuracy: 85.94\n",
            "Epoch [1/10]. Iter [201/938]. Loss: 0.84. Accuracy: 78.12\n",
            "Epoch [1/10]. Iter [301/938]. Loss: 0.45. Accuracy: 87.50\n",
            "Epoch [1/10]. Iter [401/938]. Loss: 0.36. Accuracy: 89.06\n",
            "Epoch [1/10]. Iter [501/938]. Loss: 0.28. Accuracy: 92.19\n",
            "Epoch [1/10]. Iter [601/938]. Loss: 0.31. Accuracy: 92.19\n",
            "Epoch [1/10]. Iter [701/938]. Loss: 0.55. Accuracy: 82.81\n",
            "Epoch [1/10]. Iter [801/938]. Loss: 0.26. Accuracy: 90.62\n",
            "Epoch [1/10]. Iter [901/938]. Loss: 0.43. Accuracy: 87.50\n",
            "Epoch  2 Average Epoch_loss:  0.5239096841514747\n",
            "Epoch  2 Average Epoch_accuracy:  85.17623933901919\n",
            "Epoch [2/10]. Iter [1/938]. Loss: 0.16. Accuracy: 96.88\n",
            "Epoch [2/10]. Iter [101/938]. Loss: 0.36. Accuracy: 89.06\n",
            "Epoch [2/10]. Iter [201/938]. Loss: 0.28. Accuracy: 93.75\n",
            "Epoch [2/10]. Iter [301/938]. Loss: 0.39. Accuracy: 85.94\n",
            "Epoch [2/10]. Iter [401/938]. Loss: 0.41. Accuracy: 90.62\n",
            "Epoch [2/10]. Iter [501/938]. Loss: 0.18. Accuracy: 93.75\n",
            "Epoch [2/10]. Iter [601/938]. Loss: 0.41. Accuracy: 87.50\n",
            "Epoch [2/10]. Iter [701/938]. Loss: 0.34. Accuracy: 92.19\n",
            "Epoch [2/10]. Iter [801/938]. Loss: 0.14. Accuracy: 93.75\n",
            "Epoch [2/10]. Iter [901/938]. Loss: 0.28. Accuracy: 93.75\n",
            "Epoch  3 Average Epoch_loss:  0.3231394690459471\n",
            "Epoch  3 Average Epoch_accuracy:  90.39012526652452\n",
            "Epoch [3/10]. Iter [1/938]. Loss: 0.37. Accuracy: 93.75\n",
            "Epoch [3/10]. Iter [101/938]. Loss: 0.34. Accuracy: 90.62\n",
            "Epoch [3/10]. Iter [201/938]. Loss: 0.26. Accuracy: 92.19\n",
            "Epoch [3/10]. Iter [301/938]. Loss: 0.21. Accuracy: 90.62\n",
            "Epoch [3/10]. Iter [401/938]. Loss: 0.37. Accuracy: 92.19\n",
            "Epoch [3/10]. Iter [501/938]. Loss: 0.34. Accuracy: 87.50\n",
            "Epoch [3/10]. Iter [601/938]. Loss: 0.25. Accuracy: 95.31\n",
            "Epoch [3/10]. Iter [701/938]. Loss: 0.24. Accuracy: 93.75\n",
            "Epoch [3/10]. Iter [801/938]. Loss: 0.39. Accuracy: 92.19\n",
            "Epoch [3/10]. Iter [901/938]. Loss: 0.20. Accuracy: 96.88\n",
            "Epoch  4 Average Epoch_loss:  0.3043801898657005\n",
            "Epoch  4 Average Epoch_accuracy:  91.0014658848614\n",
            "Epoch [4/10]. Iter [1/938]. Loss: 0.27. Accuracy: 90.62\n",
            "Epoch [4/10]. Iter [101/938]. Loss: 0.15. Accuracy: 95.31\n",
            "Epoch [4/10]. Iter [201/938]. Loss: 0.21. Accuracy: 90.62\n",
            "Epoch [4/10]. Iter [301/938]. Loss: 0.50. Accuracy: 84.38\n",
            "Epoch [4/10]. Iter [401/938]. Loss: 0.14. Accuracy: 96.88\n",
            "Epoch [4/10]. Iter [501/938]. Loss: 0.24. Accuracy: 93.75\n",
            "Epoch [4/10]. Iter [601/938]. Loss: 0.25. Accuracy: 93.75\n",
            "Epoch [4/10]. Iter [701/938]. Loss: 0.31. Accuracy: 93.75\n",
            "Epoch [4/10]. Iter [801/938]. Loss: 0.35. Accuracy: 90.62\n",
            "Epoch [4/10]. Iter [901/938]. Loss: 0.10. Accuracy: 96.88\n",
            "Epoch  5 Average Epoch_loss:  0.29400024347817466\n",
            "Epoch  5 Average Epoch_accuracy:  91.28131663113007\n",
            "Epoch [5/10]. Iter [1/938]. Loss: 0.21. Accuracy: 93.75\n",
            "Epoch [5/10]. Iter [101/938]. Loss: 0.21. Accuracy: 95.31\n",
            "Epoch [5/10]. Iter [201/938]. Loss: 0.13. Accuracy: 98.44\n",
            "Epoch [5/10]. Iter [301/938]. Loss: 0.28. Accuracy: 89.06\n",
            "Epoch [5/10]. Iter [401/938]. Loss: 0.15. Accuracy: 93.75\n",
            "Epoch [5/10]. Iter [501/938]. Loss: 0.26. Accuracy: 93.75\n",
            "Epoch [5/10]. Iter [601/938]. Loss: 0.53. Accuracy: 85.94\n",
            "Epoch [5/10]. Iter [701/938]. Loss: 0.36. Accuracy: 90.62\n",
            "Epoch [5/10]. Iter [801/938]. Loss: 0.22. Accuracy: 96.88\n",
            "Epoch [5/10]. Iter [901/938]. Loss: 0.36. Accuracy: 87.50\n",
            "Epoch  6 Average Epoch_loss:  0.28976924222971456\n",
            "Epoch  6 Average Epoch_accuracy:  91.49120469083155\n",
            "Epoch [6/10]. Iter [1/938]. Loss: 0.20. Accuracy: 93.75\n",
            "Epoch [6/10]. Iter [101/938]. Loss: 0.43. Accuracy: 87.50\n",
            "Epoch [6/10]. Iter [201/938]. Loss: 0.47. Accuracy: 87.50\n",
            "Epoch [6/10]. Iter [301/938]. Loss: 0.46. Accuracy: 90.62\n",
            "Epoch [6/10]. Iter [401/938]. Loss: 0.18. Accuracy: 95.31\n",
            "Epoch [6/10]. Iter [501/938]. Loss: 0.18. Accuracy: 95.31\n",
            "Epoch [6/10]. Iter [601/938]. Loss: 0.33. Accuracy: 90.62\n",
            "Epoch [6/10]. Iter [701/938]. Loss: 0.16. Accuracy: 96.88\n",
            "Epoch [6/10]. Iter [801/938]. Loss: 0.25. Accuracy: 92.19\n",
            "Epoch [6/10]. Iter [901/938]. Loss: 0.24. Accuracy: 89.06\n",
            "Epoch  7 Average Epoch_loss:  0.2842145285753807\n",
            "Epoch  7 Average Epoch_accuracy:  91.62446695095949\n",
            "Epoch [7/10]. Iter [1/938]. Loss: 0.39. Accuracy: 87.50\n",
            "Epoch [7/10]. Iter [101/938]. Loss: 0.23. Accuracy: 90.62\n",
            "Epoch [7/10]. Iter [201/938]. Loss: 0.12. Accuracy: 96.88\n",
            "Epoch [7/10]. Iter [301/938]. Loss: 0.41. Accuracy: 85.94\n",
            "Epoch [7/10]. Iter [401/938]. Loss: 0.50. Accuracy: 89.06\n",
            "Epoch [7/10]. Iter [501/938]. Loss: 0.24. Accuracy: 92.19\n",
            "Epoch [7/10]. Iter [601/938]. Loss: 0.33. Accuracy: 87.50\n",
            "Epoch [7/10]. Iter [701/938]. Loss: 0.23. Accuracy: 95.31\n",
            "Epoch [7/10]. Iter [801/938]. Loss: 0.17. Accuracy: 96.88\n",
            "Epoch [7/10]. Iter [901/938]. Loss: 0.23. Accuracy: 95.31\n",
            "Epoch  8 Average Epoch_loss:  0.2793723955901383\n",
            "Epoch  8 Average Epoch_accuracy:  91.74273720682302\n",
            "Epoch [8/10]. Iter [1/938]. Loss: 0.34. Accuracy: 89.06\n",
            "Epoch [8/10]. Iter [101/938]. Loss: 0.15. Accuracy: 96.88\n",
            "Epoch [8/10]. Iter [201/938]. Loss: 0.31. Accuracy: 89.06\n",
            "Epoch [8/10]. Iter [301/938]. Loss: 0.37. Accuracy: 85.94\n",
            "Epoch [8/10]. Iter [401/938]. Loss: 0.38. Accuracy: 89.06\n",
            "Epoch [8/10]. Iter [501/938]. Loss: 0.17. Accuracy: 95.31\n",
            "Epoch [8/10]. Iter [601/938]. Loss: 0.26. Accuracy: 90.62\n",
            "Epoch [8/10]. Iter [701/938]. Loss: 0.18. Accuracy: 93.75\n",
            "Epoch [8/10]. Iter [801/938]. Loss: 0.52. Accuracy: 89.06\n",
            "Epoch [8/10]. Iter [901/938]. Loss: 0.25. Accuracy: 93.75\n",
            "Epoch  9 Average Epoch_loss:  0.27878257679913854\n",
            "Epoch  9 Average Epoch_accuracy:  91.84101812366738\n",
            "Epoch [9/10]. Iter [1/938]. Loss: 0.62. Accuracy: 84.38\n",
            "Epoch [9/10]. Iter [101/938]. Loss: 0.35. Accuracy: 93.75\n",
            "Epoch [9/10]. Iter [201/938]. Loss: 0.21. Accuracy: 96.88\n",
            "Epoch [9/10]. Iter [301/938]. Loss: 0.16. Accuracy: 95.31\n",
            "Epoch [9/10]. Iter [401/938]. Loss: 0.18. Accuracy: 95.31\n",
            "Epoch [9/10]. Iter [501/938]. Loss: 0.43. Accuracy: 87.50\n",
            "Epoch [9/10]. Iter [601/938]. Loss: 0.22. Accuracy: 93.75\n",
            "Epoch [9/10]. Iter [701/938]. Loss: 0.23. Accuracy: 95.31\n",
            "Epoch [9/10]. Iter [801/938]. Loss: 0.30. Accuracy: 87.50\n",
            "Epoch [9/10]. Iter [901/938]. Loss: 0.24. Accuracy: 92.19\n",
            "Epoch  10 Average Epoch_loss:  0.27373647054772515\n",
            "Epoch  10 Average Epoch_accuracy:  91.93097014925372\n",
            "Epoch [10/10]. Iter [1/938]. Loss: 0.22. Accuracy: 92.19\n",
            "Epoch [10/10]. Iter [101/938]. Loss: 0.33. Accuracy: 84.38\n",
            "Epoch [10/10]. Iter [201/938]. Loss: 0.28. Accuracy: 90.62\n",
            "Epoch [10/10]. Iter [301/938]. Loss: 0.24. Accuracy: 90.62\n",
            "Epoch [10/10]. Iter [401/938]. Loss: 0.19. Accuracy: 93.75\n",
            "Epoch [10/10]. Iter [501/938]. Loss: 0.29. Accuracy: 89.06\n",
            "Epoch [10/10]. Iter [601/938]. Loss: 0.26. Accuracy: 95.31\n",
            "Epoch [10/10]. Iter [701/938]. Loss: 0.14. Accuracy: 95.31\n",
            "Epoch [10/10]. Iter [801/938]. Loss: 0.37. Accuracy: 89.06\n",
            "Epoch [10/10]. Iter [901/938]. Loss: 0.16. Accuracy: 92.19\n",
            "Epoch  11 Average Epoch_loss:  0.27222493412827\n",
            "Epoch  11 Average Epoch_accuracy:  91.9959355010661\n",
            "Iteration average time:  0:00:00.001132\n",
            "Training time:  0:01:44.139143\n",
            "Final Accuracy: 92.00\n"
          ]
        },
        {
          "output_type": "display_data",
          "data": {
            "text/plain": [
              "<Figure size 640x480 with 1 Axes>"
            ],
            "image/png": "[encoded data removed]"
          },
          "metadata": {}
        }
      ]
    },
    {
      "cell_type": "markdown",
      "source": [
        "**Question 2c**"
      ],
      "metadata": {
        "id": "El9TUuv7ZRYn"
      }
    },
    {
      "cell_type": "code",
      "source": [
        "#Final accuracy\n",
        "print(\"Final Train Accuracy: %0.2f\" % (train_final_acc))\n",
        "\n",
        "cuda = torch.cuda.is_available() \n",
        "batch_size = 64 \n",
        "train_loader, test_loader = create_data_generator(batch_size) \n",
        "#model = DigitNetwork()\n",
        "model = DigitNetwork(hidden_dims=[8])\n",
        "\n",
        "if cuda:\n",
        "   model.cuda() \n",
        "\n",
        "model.eval() \n",
        "model.load_state_dict(torch.load(\"MNIST_Network.pth\")) \n",
        "total_accuracy = 0.0 \n",
        "for idx, (images, labels) in enumerate(test_loader): \n",
        "  start = timer()\n",
        "  if cuda: \n",
        "    images = images.cuda() \n",
        "    labels = labels.cuda() \n",
        "  outputs = model(images) \n",
        "  predictions = torch.argmax(outputs, 1) \n",
        "  accuracy = (predictions == labels).float().mean() * 100. \n",
        "  accuracy = accuracy.item() # Convert to Python Scalar \n",
        "  total_accuracy += accuracy \n",
        "  if idx % 2000 == 0: \n",
        "    print(\"Iter [%d/%d]. Accuracy: %0.2f\" % (idx + 1, len(test_loader), accuracy)) \n",
        "  end = timer()\n",
        "print(\"Final Test Accuracy: %0.2f\" % (total_accuracy / len(test_loader)))\n",
        "print(\"Testing time for one batch: \", timedelta(seconds = end-start))\n",
        "print(\"\\nConfusion matrix for last batch:\\n\", confusion_matrix(labels.cpu(), predictions.cpu()))"
      ],
      "metadata": {
        "colab": {
          "base_uri": "https://localhost:8080/"
        },
        "id": "xAq4b3ngG4fv",
        "outputId": "a7ea9285-6a30-49d1-b77c-46cefbaa415c"
      },
      "execution_count": 11,
      "outputs": [
        {
          "output_type": "stream",
          "name": "stdout",
          "text": [
            "Final Train Accuracy: 92.00\n",
            "Iter [1/157]. Accuracy: 96.88\n",
            "Final Test Accuracy: 91.23\n",
            "Testing time for one batch:  0:00:00.000333\n",
            "\n",
            "Confusion matrix for last batch:\n",
            " [[1 0 0 0 0 0 0 0 0 0]\n",
            " [0 2 0 0 0 0 0 0 0 0]\n",
            " [0 0 2 0 0 0 0 0 0 0]\n",
            " [0 1 0 1 0 0 0 0 0 0]\n",
            " [0 0 0 0 2 0 0 0 0 0]\n",
            " [0 0 0 0 0 2 0 0 0 0]\n",
            " [0 0 0 0 0 0 2 0 0 0]\n",
            " [0 0 0 0 0 0 0 1 0 0]\n",
            " [0 0 0 0 0 0 0 0 1 0]\n",
            " [0 0 0 0 0 0 0 0 0 1]]\n"
          ]
        }
      ]
    },
    {
      "cell_type": "markdown",
      "source": [
        "**Question 2d: visualizing correctly predicted samples** "
      ],
      "metadata": {
        "id": "1sHheE2J2P7C"
      }
    },
    {
      "cell_type": "code",
      "source": [
        "check_corr = 0\n",
        "for idx, prediction in enumerate (predictions):\n",
        "  if predictions[idx] == labels[idx]:\n",
        "    plt.subplot(5,5, idx+1 )\n",
        "    plt.title(\"Picture: %d\" %(idx+1))\n",
        "    plt.imshow(images[idx].cpu().reshape(28,28), cmap=plt.get_cmap('gray'))\n",
        "    plt.show()\n",
        "    prob = outputs[idx, predictions[idx]].item() * 100\n",
        "    print(\"Original label: \", labels[idx].item())\n",
        "    print(\"Predicted label: \", predictions[idx].item())\n",
        "    print(\"Confidence level is: %.2f%%\" %(prob))\n",
        "    print()\n",
        "    check_corr +=1 \n",
        "    if check_corr == 10:\n",
        "      break"
      ],
      "metadata": {
        "id": "soxPiR1Vj2ZR",
        "colab": {
          "base_uri": "https://localhost:8080/",
          "height": 1000
        },
        "outputId": "860ad94f-7cc9-41d4-8f99-456f3077b54d"
      },
      "execution_count": 12,
      "outputs": [
        {
          "output_type": "display_data",
          "data": {
            "text/plain": [
              "<Figure size 640x480 with 1 Axes>"
            ],
            "image/png": "[encoded data removed]"
          },
          "metadata": {}
        },
        {
          "output_type": "stream",
          "name": "stdout",
          "text": [
            "Original label:  1\n",
            "Predicted label:  1\n",
            "Confidence level is: 97.30%\n",
            "\n"
          ]
        },
        {
          "output_type": "display_data",
          "data": {
            "text/plain": [
              "<Figure size 640x480 with 1 Axes>"
            ],
            "image/png": "[encoded data removed]"
          },
          "metadata": {}
        },
        {
          "output_type": "stream",
          "name": "stdout",
          "text": [
            "Original label:  2\n",
            "Predicted label:  2\n",
            "Confidence level is: 98.42%\n",
            "\n"
          ]
        },
        {
          "output_type": "display_data",
          "data": {
            "text/plain": [
              "<Figure size 640x480 with 1 Axes>"
            ],
            "image/png": "[encoded data removed]"
          },
          "metadata": {}
        },
        {
          "output_type": "stream",
          "name": "stdout",
          "text": [
            "Original label:  4\n",
            "Predicted label:  4\n",
            "Confidence level is: 99.69%\n",
            "\n"
          ]
        },
        {
          "output_type": "display_data",
          "data": {
            "text/plain": [
              "<Figure size 640x480 with 1 Axes>"
            ],
            "image/png": "[encoded data removed]"
          },
          "metadata": {}
        },
        {
          "output_type": "stream",
          "name": "stdout",
          "text": [
            "Original label:  5\n",
            "Predicted label:  5\n",
            "Confidence level is: 87.07%\n",
            "\n"
          ]
        },
        {
          "output_type": "display_data",
          "data": {
            "text/plain": [
              "<Figure size 640x480 with 1 Axes>"
            ],
            "image/png": "[encoded data removed]"
          },
          "metadata": {}
        },
        {
          "output_type": "stream",
          "name": "stdout",
          "text": [
            "Original label:  6\n",
            "Predicted label:  6\n",
            "Confidence level is: 99.45%\n",
            "\n"
          ]
        },
        {
          "output_type": "display_data",
          "data": {
            "text/plain": [
              "<Figure size 640x480 with 1 Axes>"
            ],
            "image/png": "[encoded data removed]"
          },
          "metadata": {}
        },
        {
          "output_type": "stream",
          "name": "stdout",
          "text": [
            "Original label:  7\n",
            "Predicted label:  7\n",
            "Confidence level is: 99.81%\n",
            "\n"
          ]
        },
        {
          "output_type": "display_data",
          "data": {
            "text/plain": [
              "<Figure size 640x480 with 1 Axes>"
            ],
            "image/png": "[encoded data removed]"
          },
          "metadata": {}
        },
        {
          "output_type": "stream",
          "name": "stdout",
          "text": [
            "Original label:  8\n",
            "Predicted label:  8\n",
            "Confidence level is: 59.43%\n",
            "\n"
          ]
        },
        {
          "output_type": "display_data",
          "data": {
            "text/plain": [
              "<Figure size 640x480 with 1 Axes>"
            ],
            "image/png": "[encoded data removed]"
          },
          "metadata": {}
        },
        {
          "output_type": "stream",
          "name": "stdout",
          "text": [
            "Original label:  9\n",
            "Predicted label:  9\n",
            "Confidence level is: 95.66%\n",
            "\n"
          ]
        },
        {
          "output_type": "display_data",
          "data": {
            "text/plain": [
              "<Figure size 640x480 with 1 Axes>"
            ],
            "image/png": "[encoded data removed]"
          },
          "metadata": {}
        },
        {
          "output_type": "stream",
          "name": "stdout",
          "text": [
            "Original label:  0\n",
            "Predicted label:  0\n",
            "Confidence level is: 75.17%\n",
            "\n"
          ]
        },
        {
          "output_type": "display_data",
          "data": {
            "text/plain": [
              "<Figure size 640x480 with 1 Axes>"
            ],
            "image/png": "[encoded data removed]"
          },
          "metadata": {}
        },
        {
          "output_type": "stream",
          "name": "stdout",
          "text": [
            "Original label:  1\n",
            "Predicted label:  1\n",
            "Confidence level is: 99.74%\n",
            "\n"
          ]
        }
      ]
    },
    {
      "cell_type": "markdown",
      "source": [
        "**Question 2d: visualizing incorrectly predicted samples**"
      ],
      "metadata": {
        "id": "yE8KotY9L5xj"
      }
    },
    {
      "cell_type": "code",
      "source": [
        "from torch.cuda import check_error\n",
        "check_incorr = 0\n",
        "for idx, prediction in enumerate (predictions):\n",
        "  if predictions[idx] != labels[idx]:\n",
        "    prob = outputs[idx, predictions[idx]].item() * 100\n",
        "    plt.subplot(5,5, idx+1 )\n",
        "    plt.title(\"Picture: %d\" %(idx+1))\n",
        "    plt.imshow(images[idx].cpu().reshape(28,28), cmap=plt.get_cmap('gray'))\n",
        "    plt.show()\n",
        "    print(\"Original label: \", labels[idx].item())\n",
        "    print(\"Predicted label: \", predictions[idx].item())\n",
        "    print(\"Confidence level is: %.2f%%\" %(prob))\n",
        "    print()\n",
        "    check_incorr +=1 \n",
        "    if check_incorr == 10:\n",
        "      break\n",
        "if check_incorr == 0:\n",
        "  print(\"No incorrect predictions!\")\n",
        "#print(\"Check error is:\",check_incorr)"
      ],
      "metadata": {
        "colab": {
          "base_uri": "https://localhost:8080/",
          "height": 217
        },
        "id": "Busl5I5_HdL7",
        "outputId": "830a5b89-da1a-43db-a136-3a0c60db12d0"
      },
      "execution_count": 13,
      "outputs": [
        {
          "output_type": "display_data",
          "data": {
            "text/plain": [
              "<Figure size 640x480 with 1 Axes>"
            ],
            "image/png": "[encoded data removed]"
          },
          "metadata": {}
        },
        {
          "output_type": "stream",
          "name": "stdout",
          "text": [
            "Original label:  3\n",
            "Predicted label:  1\n",
            "Confidence level is: 59.87%\n",
            "\n"
          ]
        }
      ]
    },
    {
      "cell_type": "code",
      "source": [],
      "metadata": {
        "id": "pwz4U6f0_0OY"
      },
      "execution_count": 13,
      "outputs": []
    },
    {
      "cell_type": "markdown",
      "source": [],
      "metadata": {
        "id": "sh1ekBZoZFEs"
      }
    },
    {
      "cell_type": "markdown",
      "metadata": {
        "id": "3_nZTwv1CbGl"
      },
      "source": [
        "### Define the evaluation framework"
      ]
    },
    {
      "cell_type": "code",
      "execution_count": 14,
      "metadata": {
        "colab": {
          "base_uri": "https://localhost:8080/",
          "height": 124
        },
        "id": "GLbEk4QZ6_4K",
        "outputId": "cbb47058-cd69-4eec-ae8e-294479388dd8",
        "vscode": {
          "languageId": "python"
        }
      },
      "outputs": [
        {
          "output_type": "execute_result",
          "data": {
            "text/plain": [
              "'\\ncuda = torch.cuda.is_available()\\nbatch_size = 1\\ntrain_loader, test_loader = create_data_generator(batch_size)\\nmodel = DigitNetwork(hidden_dims=[])\\nif cuda:\\n  model.cuda()\\nmodel.eval()\\nmodel.load_state_dict(torch.load(\"MNIST_Network.pth\"))\\n\\ntotal_accuracy = 0.0 \\nfor idx, (images, labels) in enumerate(test_loader):\\n  if cuda:\\n    images = images.cuda()\\n    labels = labels.cuda()\\n    \\n  outputs = model(images)\\n\\n  predictions = torch.argmax(outputs, 1)\\n  accuracy = (predictions == labels).float().mean() * 100.\\n\\n  accuracy = accuracy.item() # Convert to Python Scalar\\n\\n  total_accuracy += accuracy\\n\\n  if idx % 2000 == 0:\\n    print(\"Iter [%d/%d]. Accuracy: %0.2f\" % (idx + 1, len(test_loader), accuracy))\\n\\nprint(\"Final Accuracy: %0.2f\" % (total_accuracy / len(test_loader)))\\n'"
            ],
            "application/vnd.google.colaboratory.intrinsic+json": {
              "type": "string"
            }
          },
          "metadata": {},
          "execution_count": 14
        }
      ],
      "source": []
    },
    {
      "cell_type": "markdown",
      "metadata": {
        "id": "Wmpi69Q-bzDj"
      },
      "source": [
        "## Backpropagation\n",
        "\n",
        "### ReLU Example"
      ]
    },
    {
      "cell_type": "code",
      "execution_count": 15,
      "metadata": {
        "id": "EWoO_sciAqDa",
        "vscode": {
          "languageId": "python"
        }
      },
      "outputs": [],
      "source": [
        "# https://pytorch.org/tutorials/beginner/pytorch_with_examples.html#pytorch-defining-new-autograd-functions\n",
        "class MyReLU(torch.autograd.Function):\n",
        "    \"\"\"\n",
        "    We can implement our own custom autograd Functions by subclassing\n",
        "    torch.autograd.Function and implementing the forward and backward passes\n",
        "    which operate on Tensors.\n",
        "    \"\"\"\n",
        "\n",
        "    @staticmethod\n",
        "    def forward(ctx, input):\n",
        "        \"\"\"\n",
        "        In the forward pass we receive a Tensor containing the input and return\n",
        "        a Tensor containing the output. ctx is a context object that can be used\n",
        "        to stash information for backward computation. You can cache arbitrary\n",
        "        objects for use in the backward pass using the ctx.save_for_backward method.\n",
        "        \"\"\"\n",
        "        ctx.save_for_backward(input)\n",
        "        return input.clamp(min=0)\n",
        "\n",
        "    @staticmethod\n",
        "    def backward(ctx, grad_output):\n",
        "        \"\"\"\n",
        "        In the backward pass we receive a Tensor containing the gradient of the loss\n",
        "        with respect to the output, and we need to compute the gradient of the loss\n",
        "        with respect to the input.\n",
        "        \"\"\"\n",
        "        input, = ctx.saved_tensors\n",
        "        grad_input = grad_output.clone()\n",
        "        grad_input[input < 0] = 0\n",
        "        return grad_input"
      ]
    },
    {
      "cell_type": "markdown",
      "metadata": {
        "id": "2sJY_Gnvb7wP"
      },
      "source": [
        "#### Sigmoid Function\n"
      ]
    },
    {
      "cell_type": "markdown",
      "source": [
        "**Question 3a**"
      ],
      "metadata": {
        "id": "JzZn4hMo5Mpz"
      }
    },
    {
      "cell_type": "code",
      "source": [
        "class MySigmoid(torch.autograd.Function):\n",
        "    \"\"\"\n",
        "    We can implement our own custom autograd Functions by subclassing\n",
        "    torch.autograd.Function and implementing the forward and backward passes\n",
        "    which operate on Tensors.\n",
        "    \"\"\"\n",
        "\n",
        "    @staticmethod\n",
        "    def forward(ctx, input):\n",
        "        # input is a N x C tensor, N is the batch size, C is the dimension of input\n",
        "        \n",
        "        # YOUR CODE HERE\n",
        "        sigmoid_act =  1 / (1 + torch.exp(-input))\n",
        "        ctx.save_for_backward(input,sigmoid_act)\n",
        "        return sigmoid_act\n",
        "        \n",
        "        \n",
        "    @staticmethod\n",
        "    def backward(ctx, grad_output):\n",
        "        input, sigmoid_act= ctx.saved_tensors\n",
        "        # YOUR CODE HERE\n",
        "        grad_input = grad_output*sigmoid_act * (1 - sigmoid_act) \n",
        "        return grad_input\n",
        "      "
      ],
      "metadata": {
        "id": "2PC8j1r45JS8"
      },
      "execution_count": 16,
      "outputs": []
    },
    {
      "cell_type": "markdown",
      "metadata": {
        "id": "VgjRo-W1b_CD"
      },
      "source": [
        "#### Fully Connected Layer"
      ]
    },
    {
      "cell_type": "markdown",
      "source": [],
      "metadata": {
        "id": "-w_A6jwq7hfT"
      }
    },
    {
      "cell_type": "markdown",
      "source": [
        "**Question 3b**"
      ],
      "metadata": {
        "id": "lEC3Knte7lUO"
      }
    },
    {
      "cell_type": "code",
      "source": [
        "class MyLinearFunction(torch.autograd.Function):\n",
        "    \"\"\"\n",
        "    We can implement our own custom autograd Functions by subclassing\n",
        "    torch.autograd.Function and implementing the forward and backward passes\n",
        "    which operate on Tensors.\n",
        "    \"\"\"\n",
        "\n",
        "    @staticmethod\n",
        "    def forward(ctx, input, weights, bias):\n",
        "        # input is a N x C tensor, N is the batch size, C is the dimension of input\n",
        "        # weights is a C x D tensor, C and D are the dimension out input and ouput\n",
        "        # bias is D tensor\n",
        "        ctx.save_for_backward(input, weights, bias)\n",
        "        \n",
        "        # YOUR CODE HERE\n",
        "        output = input.mm(weights)\n",
        "        output += bias.unsqueeze(0).expand_as(output)\n",
        "        return output\n",
        "    \n",
        "        \n",
        "    @staticmethod\n",
        "    def backward(ctx, grad_output):\n",
        "        input, weights, bias = ctx.saved_tensors\n",
        "        # YOUR CODE HERE\n",
        "        grad_input = grad_output.mm(weights.t())\n",
        "        grad_weights = grad_output.t().mm(input)\n",
        "        grad_bias = grad_output.sum(0)\n",
        "        \n",
        "        return grad_input, grad_weights.t(), grad_bias\n",
        "       \n",
        "class MyLinearLayer(nn.Module):\n",
        "  # You don't modify this layer\n",
        "  def __init__(self, in_features = 2, out_features = 4):\n",
        "    super(MyLinearLayer, self).__init__()\n",
        "    self.weights = nn.Parameter(torch.randn(in_features, out_features))\n",
        "    self.bias = nn.Parameter(torch.zeros(out_features))\n",
        "    self.linear_fn = MyLinearFunction.apply\n",
        "\n",
        "  def forward(self, input):\n",
        "    return self.linear_fn(input, self.weights, self.bias)\n"
      ],
      "metadata": {
        "id": "2qakj7SL7jst"
      },
      "execution_count": 17,
      "outputs": []
    },
    {
      "cell_type": "markdown",
      "metadata": {
        "id": "AUjXs20ecGBG"
      },
      "source": [
        "#### Testing Your Implementation"
      ]
    },
    {
      "cell_type": "markdown",
      "source": [
        "**Question 3c**"
      ],
      "metadata": {
        "id": "OGiIwvhXfFLW"
      }
    },
    {
      "cell_type": "code",
      "execution_count": 18,
      "metadata": {
        "id": "95fQHamjZMX1",
        "vscode": {
          "languageId": "python"
        }
      },
      "outputs": [],
      "source": [
        "class MyLinearNetwork(nn.Module):\n",
        "  def __init__(self):\n",
        "    super(MyLinearNetwork, self).__init__()\n",
        "    self.linear_1 = MyLinearLayer(28 * 28, 128)\n",
        "    self.sigmoid_fn = MySigmoid.apply\n",
        "    self.linear_2 = MyLinearLayer(128, 10)\n",
        "    self.softmax_fn = nn.Softmax(dim=1)\n",
        "\n",
        "  def forward(self, x):\n",
        "    size = x.size()\n",
        "    x = x.reshape(size[0], -1) # Flatten images\n",
        "    x = self.linear_1(x)\n",
        "    x = self.sigmoid_fn(x)\n",
        "    x = self.linear_2(x)\n",
        "    if self.training == False:\n",
        "      x = self.softmax_fn(x)\n",
        "    return x "
      ]
    },
    {
      "cell_type": "code",
      "execution_count": 19,
      "metadata": {
        "id": "h-PND4sBcwgM",
        "vscode": {
          "languageId": "python"
        },
        "colab": {
          "base_uri": "https://localhost:8080/"
        },
        "outputId": "4fd1b758-4013-400c-cba7-bea8df7fa683"
      },
      "outputs": [
        {
          "output_type": "stream",
          "name": "stdout",
          "text": [
            "MyLinearNetwork(\n",
            "  (linear_1): MyLinearLayer()\n",
            "  (linear_2): MyLinearLayer()\n",
            "  (softmax_fn): Softmax(dim=1)\n",
            ")\n",
            "Epoch [1/3]. Iter [1/1875]. Loss: 10.02. Accuracy: 9.38\n",
            "Epoch [1/3]. Iter [101/1875]. Loss: 0.64. Accuracy: 90.62\n",
            "Epoch [1/3]. Iter [201/1875]. Loss: 0.73. Accuracy: 78.12\n",
            "Epoch [1/3]. Iter [301/1875]. Loss: 1.23. Accuracy: 84.38\n",
            "Epoch [1/3]. Iter [401/1875]. Loss: 0.39. Accuracy: 84.38\n",
            "Epoch [1/3]. Iter [501/1875]. Loss: 0.73. Accuracy: 84.38\n",
            "Epoch [1/3]. Iter [601/1875]. Loss: 0.47. Accuracy: 90.62\n",
            "Epoch [1/3]. Iter [701/1875]. Loss: 0.30. Accuracy: 93.75\n",
            "Epoch [1/3]. Iter [801/1875]. Loss: 0.85. Accuracy: 78.12\n",
            "Epoch [1/3]. Iter [901/1875]. Loss: 0.29. Accuracy: 90.62\n",
            "Epoch [1/3]. Iter [1001/1875]. Loss: 0.45. Accuracy: 78.12\n",
            "Epoch [1/3]. Iter [1101/1875]. Loss: 0.55. Accuracy: 84.38\n",
            "Epoch [1/3]. Iter [1201/1875]. Loss: 0.28. Accuracy: 96.88\n",
            "Epoch [1/3]. Iter [1301/1875]. Loss: 0.18. Accuracy: 96.88\n",
            "Epoch [1/3]. Iter [1401/1875]. Loss: 0.52. Accuracy: 84.38\n",
            "Epoch [1/3]. Iter [1501/1875]. Loss: 0.23. Accuracy: 90.62\n",
            "Epoch [1/3]. Iter [1601/1875]. Loss: 0.11. Accuracy: 96.88\n",
            "Epoch [1/3]. Iter [1701/1875]. Loss: 0.31. Accuracy: 87.50\n",
            "Epoch [1/3]. Iter [1801/1875]. Loss: 0.15. Accuracy: 93.75\n",
            "Epoch [2/3]. Iter [1/1875]. Loss: 0.20. Accuracy: 93.75\n",
            "Epoch [2/3]. Iter [101/1875]. Loss: 0.46. Accuracy: 81.25\n",
            "Epoch [2/3]. Iter [201/1875]. Loss: 0.12. Accuracy: 93.75\n",
            "Epoch [2/3]. Iter [301/1875]. Loss: 0.14. Accuracy: 93.75\n",
            "Epoch [2/3]. Iter [401/1875]. Loss: 0.22. Accuracy: 93.75\n",
            "Epoch [2/3]. Iter [501/1875]. Loss: 0.47. Accuracy: 81.25\n",
            "Epoch [2/3]. Iter [601/1875]. Loss: 0.65. Accuracy: 84.38\n",
            "Epoch [2/3]. Iter [701/1875]. Loss: 0.06. Accuracy: 96.88\n",
            "Epoch [2/3]. Iter [801/1875]. Loss: 0.23. Accuracy: 87.50\n",
            "Epoch [2/3]. Iter [901/1875]. Loss: 0.14. Accuracy: 93.75\n",
            "Epoch [2/3]. Iter [1001/1875]. Loss: 0.39. Accuracy: 90.62\n",
            "Epoch [2/3]. Iter [1101/1875]. Loss: 0.21. Accuracy: 93.75\n",
            "Epoch [2/3]. Iter [1201/1875]. Loss: 0.12. Accuracy: 96.88\n",
            "Epoch [2/3]. Iter [1301/1875]. Loss: 0.22. Accuracy: 90.62\n",
            "Epoch [2/3]. Iter [1401/1875]. Loss: 0.06. Accuracy: 100.00\n",
            "Epoch [2/3]. Iter [1501/1875]. Loss: 0.20. Accuracy: 93.75\n",
            "Epoch [2/3]. Iter [1601/1875]. Loss: 0.15. Accuracy: 96.88\n",
            "Epoch [2/3]. Iter [1701/1875]. Loss: 0.19. Accuracy: 93.75\n",
            "Epoch [2/3]. Iter [1801/1875]. Loss: 0.08. Accuracy: 96.88\n",
            "Epoch [3/3]. Iter [1/1875]. Loss: 0.11. Accuracy: 96.88\n",
            "Epoch [3/3]. Iter [101/1875]. Loss: 0.28. Accuracy: 93.75\n",
            "Epoch [3/3]. Iter [201/1875]. Loss: 0.23. Accuracy: 93.75\n",
            "Epoch [3/3]. Iter [301/1875]. Loss: 0.15. Accuracy: 93.75\n",
            "Epoch [3/3]. Iter [401/1875]. Loss: 0.21. Accuracy: 90.62\n",
            "Epoch [3/3]. Iter [501/1875]. Loss: 0.07. Accuracy: 96.88\n",
            "Epoch [3/3]. Iter [601/1875]. Loss: 0.14. Accuracy: 90.62\n",
            "Epoch [3/3]. Iter [701/1875]. Loss: 0.14. Accuracy: 90.62\n",
            "Epoch [3/3]. Iter [801/1875]. Loss: 0.11. Accuracy: 90.62\n",
            "Epoch [3/3]. Iter [901/1875]. Loss: 0.24. Accuracy: 93.75\n",
            "Epoch [3/3]. Iter [1001/1875]. Loss: 0.01. Accuracy: 100.00\n",
            "Epoch [3/3]. Iter [1101/1875]. Loss: 0.04. Accuracy: 96.88\n",
            "Epoch [3/3]. Iter [1201/1875]. Loss: 0.13. Accuracy: 96.88\n",
            "Epoch [3/3]. Iter [1301/1875]. Loss: 0.04. Accuracy: 96.88\n",
            "Epoch [3/3]. Iter [1401/1875]. Loss: 0.11. Accuracy: 96.88\n",
            "Epoch [3/3]. Iter [1501/1875]. Loss: 0.17. Accuracy: 93.75\n",
            "Epoch [3/3]. Iter [1601/1875]. Loss: 0.19. Accuracy: 96.88\n",
            "Epoch [3/3]. Iter [1701/1875]. Loss: 0.23. Accuracy: 96.88\n",
            "Epoch [3/3]. Iter [1801/1875]. Loss: 0.07. Accuracy: 96.88\n",
            "Iter [1/313]. Accuracy: 93.75\n",
            "Final Accuracy: 93.55\n"
          ]
        }
      ],
      "source": [
        "cuda = torch.cuda.is_available()\n",
        "batch_size = 32\n",
        "train_loader, test_loader = create_data_generator(batch_size)\n",
        "model = MyLinearNetwork()\n",
        "print(model)\n",
        "if cuda:\n",
        "  model.cuda()\n",
        "n_epochs = 3\n",
        "learning_rate = 0.1\n",
        "optim = torch.optim.SGD(params = model.parameters(), lr = learning_rate, momentum=0.9)\n",
        "loss_fn = nn.CrossEntropyLoss()\n",
        "\n",
        "model.train() \n",
        "for epoch in range(1, n_epochs + 1):\n",
        "  for idx, (images, labels) in enumerate(train_loader):\n",
        "    if cuda:\n",
        "      images = images.cuda()\n",
        "      labels = labels.cuda()\n",
        "      \n",
        "    outputs = model(images)\n",
        "\n",
        "    loss = loss_fn(outputs, labels) \n",
        "\n",
        "    optim.zero_grad()\n",
        "    loss.backward()\n",
        "    optim.step() \n",
        "\n",
        "    predictions = torch.argmax(outputs, 1)\n",
        "    accuracy = (predictions == labels).float().mean() * 100.\n",
        "\n",
        "    loss = loss.item() # Convert to Python Scalar\n",
        "    accuracy = accuracy.item() # Convert to Python Scalar\n",
        "\n",
        "    if idx % 100 == 0:\n",
        "      print(\"Epoch [%d/%d]. Iter [%d/%d]. Loss: %0.2f. Accuracy: %0.2f\" % (epoch, n_epochs, idx + 1, len(train_loader), loss, accuracy))\n",
        "\n",
        "total_accuracy = 0.0 \n",
        "model.eval()\n",
        "for idx, (images, labels) in enumerate(test_loader):\n",
        "  if cuda:\n",
        "    images = images.cuda()\n",
        "    labels = labels.cuda()\n",
        "    \n",
        "  outputs = model(images)\n",
        "\n",
        "  predictions = torch.argmax(outputs, 1)\n",
        "  accuracy = (predictions == labels).float().mean() * 100.\n",
        "\n",
        "  accuracy = accuracy.item() # Convert to Python Scalar\n",
        "\n",
        "  total_accuracy += accuracy\n",
        "\n",
        "  if idx % 2000 == 0:\n",
        "    print(\"Iter [%d/%d]. Accuracy: %0.2f\" % (idx + 1, len(test_loader), accuracy))\n",
        "\n",
        "print(\"Final Accuracy: %0.2f\" % (total_accuracy / len(test_loader)))"
      ]
    },
    {
      "cell_type": "code",
      "execution_count": 19,
      "metadata": {
        "id": "QP5Vc_zriFmK",
        "vscode": {
          "languageId": "python"
        }
      },
      "outputs": [],
      "source": []
    }
  ],
  "metadata": {
    "accelerator": "GPU",
    "colab": {
      "provenance": []
    },
    "kernelspec": {
      "display_name": "Python 3",
      "name": "python3"
    },
    "gpuClass": "standard"
  },
  "nbformat": 4,
  "nbformat_minor": 0
}